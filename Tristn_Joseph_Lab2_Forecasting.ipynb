{
 "cells": [
  {
   "cell_type": "markdown",
   "id": "63ffeae8-2f51-40ba-8379-c3ed97041089",
   "metadata": {},
   "source": [
    "# Trist'n Joseph - IST 718 - Lab 2 (Forecasting)"
   ]
  },
  {
   "cell_type": "markdown",
   "id": "aabc643d-baa5-4d3f-abe4-30f753221bd5",
   "metadata": {},
   "source": [
    "## Packages"
   ]
  },
  {
   "cell_type": "code",
   "execution_count": 1,
   "id": "7e64ecec-d2d8-4621-95b8-cf755ca1419d",
   "metadata": {},
   "outputs": [],
   "source": [
    "import pandas as pd \n",
    "import numpy as np\n",
    "\n",
    "import matplotlib.pyplot as plt\n",
    "%matplotlib inline\n",
    "import seaborn as sns\n",
    "\n",
    "from statsmodels.tsa.stattools import adfuller, acf, pacf\n",
    "from statsmodels.graphics.tsaplots import plot_acf, plot_pacf\n",
    "from statsmodels.tsa.arima_model import ARIMA\n",
    "\n",
    "from math import sqrt\n",
    "\n",
    "import warnings"
   ]
  },
  {
   "cell_type": "code",
   "execution_count": 2,
   "id": "277429e1-c208-4d53-bbd2-cc198f59a36b",
   "metadata": {},
   "outputs": [],
   "source": [
    "zwillow_median_train_path = \"C:/Users/trist/OneDrive/Desktop/Trist'n/School/Syracuse University/Q4 2021/IST718/Labs/Lab 2/zwillow_Median_training_data.csv\"\n",
    "zwillow_median_test_path = \"C:/Users/trist/OneDrive/Desktop/Trist'n/School/Syracuse University/Q4 2021/IST718/Labs/Lab 2/zwillow_Median_testing_data.csv\"\n",
    "\n",
    "zwillow_train = pd.read_csv(zwillow_median_train_path)\n",
    "zwillow_test = pd.read_csv(zwillow_median_test_path)\n",
    "\n",
    "zwillow_train['Date'] = zwillow_train['Date'].astype('datetime64[ns]')\n",
    "zwillow_test['Date'] = zwillow_test['Date'].astype('datetime64[ns]')"
   ]
  },
  {
   "cell_type": "code",
   "execution_count": 3,
   "id": "0bae00d9-a06d-41e2-85e6-4d1d993cb8dd",
   "metadata": {},
   "outputs": [],
   "source": [
    "final_training_index = len(zwillow_train)\n",
    "new_testing_indexes = []\n",
    "for i in range(0, len(zwillow_test)):\n",
    "    new_index = final_training_index + i\n",
    "    new_testing_indexes.append(new_index)\n",
    "    \n",
    "zwillow_test['new_index'] = new_testing_indexes\n",
    "zwillow_test.set_index('new_index', inplace=True)"
   ]
  },
  {
   "cell_type": "markdown",
   "id": "e0cf74b9-8b48-426a-a099-e331bd6e9757",
   "metadata": {},
   "source": [
    "## Forecasting"
   ]
  },
  {
   "cell_type": "markdown",
   "id": "ab2e2483-2200-4b80-bf33-4981f3a25c35",
   "metadata": {},
   "source": [
    "Because the data is non-stationary (from `EDA`), differencing is required."
   ]
  },
  {
   "cell_type": "code",
   "execution_count": 4,
   "id": "12fc3613-95a9-48e2-8c3b-e9b47813b3ec",
   "metadata": {},
   "outputs": [],
   "source": [
    "def test_stationarity(timeseries):\n",
    "         \n",
    "    # Dickey-Fuller test:\n",
    "    print('Results of Dickey-Fuller Test:') \n",
    "    dftest = adfuller(timeseries.iloc[:,0].values, autolag='AIC')\n",
    "    dfoutput = pd.Series(dftest[0:4], index=['Test Statistic','p-value','# Lags Used','Number of Observations Used'])\n",
    "    \n",
    "    for key,value in dftest[4].items():\n",
    "        dfoutput['Critical Value (%s)'%key] = value\n",
    "    \n",
    "    print(dfoutput)"
   ]
  },
  {
   "cell_type": "code",
   "execution_count": 5,
   "id": "60437d8e-c594-40b0-9bff-b340ca13c3ee",
   "metadata": {},
   "outputs": [],
   "source": [
    "def difference(timeseries, interval):\n",
    "    \n",
    "    differences = []\n",
    "    for i in range(1, len(timeseries)):\n",
    "        difference = timeseries[i] - timeseries[i - interval]\n",
    "        differences.append(difference)\n",
    "        \n",
    "    return differences"
   ]
  },
  {
   "cell_type": "code",
   "execution_count": 6,
   "id": "b131058e-261c-4c71-893c-9197c8af1563",
   "metadata": {},
   "outputs": [],
   "source": [
    "def inverse_difference(history, yhat, interval=1):\n",
    "    return yhat + history[-interval]"
   ]
  },
  {
   "cell_type": "code",
   "execution_count": 7,
   "id": "aab6eafa-52c6-44c9-9109-d0bc4e13607e",
   "metadata": {},
   "outputs": [
    {
     "name": "stderr",
     "output_type": "stream",
     "text": [
      "<ipython-input-7-9df75cdf4686>:3: SettingWithCopyWarning: \n",
      "A value is trying to be set on a copy of a slice from a DataFrame.\n",
      "Try using .loc[row_indexer,col_indexer] = value instead\n",
      "\n",
      "See the caveats in the documentation: https://pandas.pydata.org/pandas-docs/stable/user_guide/indexing.html#returning-a-view-versus-a-copy\n",
      "  zwillow_train_FirstDiff['HousingValueFirstDifference'] = FirstDiff\n",
      "C:\\Users\\trist\\anaconda3\\lib\\site-packages\\pandas\\core\\frame.py:4308: SettingWithCopyWarning: \n",
      "A value is trying to be set on a copy of a slice from a DataFrame\n",
      "\n",
      "See the caveats in the documentation: https://pandas.pydata.org/pandas-docs/stable/user_guide/indexing.html#returning-a-view-versus-a-copy\n",
      "  return super().drop(\n"
     ]
    }
   ],
   "source": [
    "FirstDiff = difference(zwillow_train.HousingValue, 1)\n",
    "zwillow_train_FirstDiff = zwillow_train.iloc[1: , :]\n",
    "zwillow_train_FirstDiff['HousingValueFirstDifference'] = FirstDiff\n",
    "zwillow_train_FirstDiff.drop(['Dates', 'HousingValue', 'Date'], 1, inplace=True)"
   ]
  },
  {
   "cell_type": "code",
   "execution_count": 8,
   "id": "52a4ad9f-2e14-44b6-9349-70807c3057a1",
   "metadata": {},
   "outputs": [
    {
     "name": "stdout",
     "output_type": "stream",
     "text": [
      "Results of Dickey-Fuller Test:\n",
      "Test Statistic                  -4.964819\n",
      "p-value                          0.000026\n",
      "# Lags Used                      3.000000\n",
      "Number of Observations Used    247.000000\n",
      "Critical Value (1%)             -3.457105\n",
      "Critical Value (5%)             -2.873314\n",
      "Critical Value (10%)            -2.573044\n",
      "dtype: float64\n"
     ]
    }
   ],
   "source": [
    "test_stationarity(zwillow_train_FirstDiff)"
   ]
  },
  {
   "cell_type": "markdown",
   "id": "4aae87ed-9253-4c6f-82f5-bb45b2500ffc",
   "metadata": {},
   "source": [
    "The null hypothesis of DF test suggests that the data series is not stationary.\n",
    "\n",
    "With a p-value of `0.000026`, there is enough evidence at the 5% level of significance to reject the null hypothesis. Therefore, it is likely that the data series is stationary."
   ]
  },
  {
   "cell_type": "code",
   "execution_count": 9,
   "id": "f5aa9378-26c5-4c71-96b3-5e186357d6ab",
   "metadata": {},
   "outputs": [
    {
     "data": {
      "image/png": "[encoded data removed]",
      "text/plain": [
       "<Figure size 432x288 with 1 Axes>"
      ]
     },
     "execution_count": 9,
     "metadata": {},
     "output_type": "execute_result"
    },
    {
     "data": {
      "image/png": "[encoded data removed]",
      "text/plain": [
       "<Figure size 432x288 with 1 Axes>"
      ]
     },
     "metadata": {
      "needs_background": "light"
     },
     "output_type": "display_data"
    }
   ],
   "source": [
    "plot_acf(zwillow_train_FirstDiff)"
   ]
  },
  {
   "cell_type": "code",
   "execution_count": 10,
   "id": "ccc21d0d-d436-463a-8780-f1380f6f8128",
   "metadata": {},
   "outputs": [
    {
     "data": {
      "image/png": "[encoded data removed]",
      "text/plain": [
       "<Figure size 432x288 with 1 Axes>"
      ]
     },
     "execution_count": 10,
     "metadata": {},
     "output_type": "execute_result"
    },
    {
     "data": {
      "image/png": "[encoded data removed]",
      "text/plain": [
       "<Figure size 432x288 with 1 Axes>"
      ]
     },
     "metadata": {
      "needs_background": "light"
     },
     "output_type": "display_data"
    }
   ],
   "source": [
    "plot_pacf(zwillow_train_FirstDiff)"
   ]
  },
  {
   "cell_type": "markdown",
   "id": "70259d09-f154-4634-a392-0e2b0e2d98d1",
   "metadata": {},
   "source": [
    "### ARIMA(1, 1, 1)"
   ]
  },
  {
   "cell_type": "code",
   "execution_count": 11,
   "id": "3283e277-94d5-40ee-86b2-250bad5f204d",
   "metadata": {},
   "outputs": [],
   "source": [
    "def calculate_model_accuracy(actual, forecast):\n",
    "    rmse = round(np.mean((forecast - actual)**2)**.5, 4)\n",
    "    \n",
    "    print('The RMSE for this model is ~{0}'.format(rmse))\n",
    "    return rmse"
   ]
  },
  {
   "cell_type": "code",
   "execution_count": 12,
   "id": "92612f41-0fd1-4844-87b8-247d033dd665",
   "metadata": {},
   "outputs": [
    {
     "name": "stderr",
     "output_type": "stream",
     "text": [
      "C:\\Users\\trist\\anaconda3\\lib\\site-packages\\statsmodels\\tsa\\arima_model.py:472: FutureWarning: \n",
      "statsmodels.tsa.arima_model.ARMA and statsmodels.tsa.arima_model.ARIMA have\n",
      "been deprecated in favor of statsmodels.tsa.arima.model.ARIMA (note the .\n",
      "between arima and model) and\n",
      "statsmodels.tsa.SARIMAX. These will be removed after the 0.12 release.\n",
      "\n",
      "statsmodels.tsa.arima.model.ARIMA makes use of the statespace framework and\n",
      "is both well tested and maintained.\n",
      "\n",
      "To silence this warning and continue using ARMA and ARIMA until they are\n",
      "removed, use:\n",
      "\n",
      "import warnings\n",
      "warnings.filterwarnings('ignore', 'statsmodels.tsa.arima_model.ARMA',\n",
      "                        FutureWarning)\n",
      "warnings.filterwarnings('ignore', 'statsmodels.tsa.arima_model.ARIMA',\n",
      "                        FutureWarning)\n",
      "\n",
      "  warnings.warn(ARIMA_DEPRECATION_WARN, FutureWarning)\n"
     ]
    },
    {
     "name": "stdout",
     "output_type": "stream",
     "text": [
      "                             ARIMA Model Results                              \n",
      "==============================================================================\n",
      "Dep. Variable:         D.HousingValue   No. Observations:                  251\n",
      "Model:                 ARIMA(1, 1, 1)   Log Likelihood               -1890.079\n",
      "Method:                       css-mle   S.D. of innovations            450.609\n",
      "Date:                Mon, 08 Nov 2021   AIC                           3788.159\n",
      "Time:                        00:31:54   BIC                           3802.261\n",
      "Sample:                             1   HQIC                          3793.834\n",
      "                                                                              \n",
      "========================================================================================\n",
      "                           coef    std err          z      P>|z|      [0.025      0.975]\n",
      "----------------------------------------------------------------------------------------\n",
      "const                  177.4070     72.662      2.442      0.015      34.991     319.823\n",
      "ar.L1.D.HousingValue     0.7681      0.099      7.764      0.000       0.574       0.962\n",
      "ma.L1.D.HousingValue    -0.4013      0.154     -2.608      0.009      -0.703      -0.100\n",
      "                                    Roots                                    \n",
      "=============================================================================\n",
      "                  Real          Imaginary           Modulus         Frequency\n",
      "-----------------------------------------------------------------------------\n",
      "AR.1            1.3020           +0.0000j            1.3020            0.0000\n",
      "MA.1            2.4919           +0.0000j            2.4919            0.0000\n",
      "-----------------------------------------------------------------------------\n"
     ]
    },
    {
     "name": "stderr",
     "output_type": "stream",
     "text": [
      "C:\\Users\\trist\\anaconda3\\lib\\site-packages\\statsmodels\\tsa\\arima_model.py:472: FutureWarning: \n",
      "statsmodels.tsa.arima_model.ARMA and statsmodels.tsa.arima_model.ARIMA have\n",
      "been deprecated in favor of statsmodels.tsa.arima.model.ARIMA (note the .\n",
      "between arima and model) and\n",
      "statsmodels.tsa.SARIMAX. These will be removed after the 0.12 release.\n",
      "\n",
      "statsmodels.tsa.arima.model.ARIMA makes use of the statespace framework and\n",
      "is both well tested and maintained.\n",
      "\n",
      "To silence this warning and continue using ARMA and ARIMA until they are\n",
      "removed, use:\n",
      "\n",
      "import warnings\n",
      "warnings.filterwarnings('ignore', 'statsmodels.tsa.arima_model.ARMA',\n",
      "                        FutureWarning)\n",
      "warnings.filterwarnings('ignore', 'statsmodels.tsa.arima_model.ARIMA',\n",
      "                        FutureWarning)\n",
      "\n",
      "  warnings.warn(ARIMA_DEPRECATION_WARN, FutureWarning)\n"
     ]
    }
   ],
   "source": [
    "# using ARIMA(p, d, q)\n",
    "# -- let p=1, d=1, q=1\n",
    "arima_model_111 = ARIMA(zwillow_train.HousingValue, order=(1, 1, 1))\n",
    "arima_model_111_results = arima_model_111.fit(maxiter=500)  \n",
    "print(arima_model_111_results.summary())"
   ]
  },
  {
   "cell_type": "code",
   "execution_count": 13,
   "id": "9571723a-3335-4195-a560-8762e5372911",
   "metadata": {},
   "outputs": [
    {
     "data": {
      "text/plain": [
       "<Figure size 144000x3600 with 0 Axes>"
      ]
     },
     "metadata": {},
     "output_type": "display_data"
    },
    {
     "data": {
      "image/png": "[encoded data removed]",
      "text/plain": [
       "<Figure size 432x288 with 2 Axes>"
      ]
     },
     "metadata": {
      "needs_background": "light"
     },
     "output_type": "display_data"
    }
   ],
   "source": [
    "arima_model_111_residuals = pd.DataFrame(arima_model_111_results.resid)\n",
    "\n",
    "fig = plt.figure(figsize = (2000, 50))\n",
    "fig, ax = plt.subplots(1, 2)\n",
    "arima_model_111_residuals.plot(title=\"Residuals\", ax=ax[0])\n",
    "arima_model_111_residuals.plot(kind='kde', title='Density', ax=ax[1])\n",
    "plt.show()"
   ]
  },
  {
   "cell_type": "code",
   "execution_count": 14,
   "id": "0f7f5f1b-d1a6-4c21-a8f2-bc484a165e71",
   "metadata": {},
   "outputs": [],
   "source": [
    "arima_model_111_forecast, arima_model_111_se, arima_model_111_conf_interval = arima_model_111_results.forecast(27, alpha=0.05)\n",
    "arima_model_111_forecast_series = pd.Series(arima_model_111_forecast, index=zwillow_test.HousingValue.index)\n",
    "arima_model_111_conf_interval_lower = pd.Series(arima_model_111_conf_interval[:, 0], index=zwillow_test.HousingValue.index)\n",
    "arima_model_111_conf_interval_upper = pd.Series(arima_model_111_conf_interval[:, 1], index=zwillow_test.HousingValue.index)"
   ]
  },
  {
   "cell_type": "code",
   "execution_count": 15,
   "id": "1697eade-875b-4208-add7-2471a2d788cc",
   "metadata": {},
   "outputs": [
    {
     "data": {
      "image/png": "[encoded data removed]",
      "text/plain": [
       "<Figure size 1440x360 with 1 Axes>"
      ]
     },
     "metadata": {
      "needs_background": "light"
     },
     "output_type": "display_data"
    }
   ],
   "source": [
    "fig = plt.figure(figsize = (20, 5))\n",
    "plt.plot(zwillow_test.HousingValue, label='Actual')\n",
    "plt.plot(zwillow_train.HousingValue, label='Actual')\n",
    "plt.plot(arima_model_111_forecast_series, label='Forecast')\n",
    "plt.fill_between(arima_model_111_conf_interval_lower.index, arima_model_111_conf_interval_lower, arima_model_111_conf_interval_upper, color='k', alpha=0.10)\n",
    "plt.xlabel('Time')\n",
    "plt.ylabel('Median Housing Value')\n",
    "plt.title('Forecasted vs Actual Median Housing Value, ARIMA(1, 1, 1)')\n",
    "plt.legend()\n",
    "plt.show()"
   ]
  },
  {
   "cell_type": "code",
   "execution_count": 16,
   "id": "388178d0-03fd-4986-8e11-9dd9e4f55a4a",
   "metadata": {},
   "outputs": [
    {
     "name": "stdout",
     "output_type": "stream",
     "text": [
      "The RMSE for this model is ~4289.9196\n"
     ]
    },
    {
     "data": {
      "text/plain": [
       "4289.9196"
      ]
     },
     "execution_count": 16,
     "metadata": {},
     "output_type": "execute_result"
    }
   ],
   "source": [
    "calculate_model_accuracy(zwillow_test.HousingValue, arima_model_111_forecast_series)"
   ]
  },
  {
   "cell_type": "markdown",
   "id": "1776102a-f905-4e25-a4e3-0fbf45827195",
   "metadata": {},
   "source": [
    "### Searching For Optimal ARIMA Parameters"
   ]
  },
  {
   "cell_type": "code",
   "execution_count": 17,
   "id": "05c3398e-9143-4535-b4b0-43b9abe1027c",
   "metadata": {},
   "outputs": [],
   "source": [
    "def find_best_ARIMA(train_data, test_df, p_values, d_values, q_values):\n",
    "    best_score, best_cfg = float('inf'), None\n",
    "    for p in p_values:\n",
    "        for d in d_values:\n",
    "            for q in q_values:\n",
    "                order = (p, d, q)\n",
    "                try:\n",
    "                    arima_model = ARIMA(train_data, order=order)\n",
    "                    arima_model_results = arima_model.fit(maxiter=500)\n",
    "                    arima_model_forecast, arima_model_se, arima_model_conf_interval = arima_model_111_results.forecast(27, alpha=0.05)\n",
    "                    arima_model_forecast_series = pd.Series(arima_model_forecast, index=test_df.HousingValue.index)\n",
    "                    rmse = calculate_model_accuracy(test_df.HousingValue, arima_model_forecast_series)\n",
    "                    \n",
    "                    if rmse < best_score:\n",
    "                        best_score, best_cfg = rmse, order\n",
    "                    print('ARIMA%s RMSE=%.3f' % order(order, rmse))\n",
    "                    \n",
    "                except:\n",
    "                    continue\n",
    "    print('Best ARIMA%s RMSE=%.3f' % (best_cfg, best_score))"
   ]
  },
  {
   "cell_type": "code",
   "execution_count": 18,
   "id": "712297d9-3085-4d4a-920d-91a5e6700b4d",
   "metadata": {},
   "outputs": [
    {
     "name": "stdout",
     "output_type": "stream",
     "text": [
      "The RMSE for this model is ~4289.9196\n",
      "The RMSE for this model is ~4289.9196\n",
      "The RMSE for this model is ~4289.9196\n",
      "The RMSE for this model is ~4289.9196\n",
      "The RMSE for this model is ~4289.9196\n",
      "The RMSE for this model is ~4289.9196\n",
      "The RMSE for this model is ~4289.9196\n",
      "The RMSE for this model is ~4289.9196\n",
      "The RMSE for this model is ~4289.9196\n",
      "The RMSE for this model is ~4289.9196\n",
      "The RMSE for this model is ~4289.9196\n",
      "The RMSE for this model is ~4289.9196\n",
      "The RMSE for this model is ~4289.9196\n",
      "The RMSE for this model is ~4289.9196\n",
      "The RMSE for this model is ~4289.9196\n",
      "The RMSE for this model is ~4289.9196\n",
      "The RMSE for this model is ~4289.9196\n",
      "The RMSE for this model is ~4289.9196\n",
      "The RMSE for this model is ~4289.9196\n",
      "The RMSE for this model is ~4289.9196\n",
      "The RMSE for this model is ~4289.9196\n",
      "The RMSE for this model is ~4289.9196\n",
      "The RMSE for this model is ~4289.9196\n",
      "The RMSE for this model is ~4289.9196\n",
      "Best ARIMA(1, 1, 1) RMSE=4289.920\n"
     ]
    }
   ],
   "source": [
    "p_values = range(1, 10)\n",
    "d_values = range(1, 2)\n",
    "q_values = range(1, 4)\n",
    "warnings.filterwarnings('ignore')\n",
    "find_best_ARIMA(zwillow_train.HousingValue, zwillow_test, p_values, d_values, q_values)"
   ]
  },
  {
   "cell_type": "markdown",
   "id": "2c4c865e-e9b3-4350-88e5-46274b94fcff",
   "metadata": {},
   "source": [
    "Turns out that the best model is the ARIMA(1, 1, 1)"
   ]
  },
  {
   "cell_type": "markdown",
   "id": "47227c7b-c120-4314-a300-c842a40f1034",
   "metadata": {},
   "source": [
    "## Finding the best zip codes"
   ]
  },
  {
   "cell_type": "code",
   "execution_count": 19,
   "id": "98d65b3f-549b-4247-88d4-4c8f26ba59c6",
   "metadata": {},
   "outputs": [],
   "source": [
    "zwillow_ImportantMetros_path = \"C:/Users/trist/OneDrive/Desktop/Trist'n/School/Syracuse University/Q4 2021/IST718/Labs/Lab 2/zwillow_ImportantMetros.csv\"\n",
    "zwillow_ImportantMetros = pd.read_csv(zwillow_ImportantMetros_path)"
   ]
  },
  {
   "cell_type": "code",
   "execution_count": 20,
   "id": "a4ebbb5c-04e9-4a94-bd0c-e787b91cc2b5",
   "metadata": {},
   "outputs": [
    {
     "data": {
      "text/html": [
       "<div>\n",
       "<style scoped>\n",
       "    .dataframe tbody tr th:only-of-type {\n",
       "        vertical-align: middle;\n",
       "    }\n",
       "\n",
       "    .dataframe tbody tr th {\n",
       "        vertical-align: top;\n",
       "    }\n",
       "\n",
       "    .dataframe thead th {\n",
       "        text-align: right;\n",
       "    }\n",
       "</style>\n",
       "<table border=\"1\" class=\"dataframe\">\n",
       "  <thead>\n",
       "    <tr style=\"text-align: right;\">\n",
       "      <th></th>\n",
       "      <th>Unnamed: 0</th>\n",
       "      <th>RegionID</th>\n",
       "      <th>SizeRank</th>\n",
       "      <th>RegionName</th>\n",
       "      <th>RegionType</th>\n",
       "      <th>StateName</th>\n",
       "      <th>State</th>\n",
       "      <th>City</th>\n",
       "      <th>Metro</th>\n",
       "      <th>CountyName</th>\n",
       "      <th>Date</th>\n",
       "      <th>MedianHousingValue</th>\n",
       "    </tr>\n",
       "  </thead>\n",
       "  <tbody>\n",
       "    <tr>\n",
       "      <th>0</th>\n",
       "      <td>148888</td>\n",
       "      <td>89249</td>\n",
       "      <td>332</td>\n",
       "      <td>71913</td>\n",
       "      <td>Zip</td>\n",
       "      <td>AR</td>\n",
       "      <td>AR</td>\n",
       "      <td>Hot Springs</td>\n",
       "      <td>Hot Springs</td>\n",
       "      <td>Garland County</td>\n",
       "      <td>1997-01-31</td>\n",
       "      <td>90258.0</td>\n",
       "    </tr>\n",
       "    <tr>\n",
       "      <th>1</th>\n",
       "      <td>149173</td>\n",
       "      <td>89319</td>\n",
       "      <td>664</td>\n",
       "      <td>72034</td>\n",
       "      <td>Zip</td>\n",
       "      <td>AR</td>\n",
       "      <td>AR</td>\n",
       "      <td>Conway</td>\n",
       "      <td>Little Rock-North Little Rock-Conway</td>\n",
       "      <td>Faulkner County</td>\n",
       "      <td>1997-01-31</td>\n",
       "      <td>103502.0</td>\n",
       "    </tr>\n",
       "    <tr>\n",
       "      <th>2</th>\n",
       "      <td>149341</td>\n",
       "      <td>89707</td>\n",
       "      <td>870</td>\n",
       "      <td>72701</td>\n",
       "      <td>Zip</td>\n",
       "      <td>AR</td>\n",
       "      <td>AR</td>\n",
       "      <td>Fayetteville</td>\n",
       "      <td>Fayetteville-Springdale-Rogers</td>\n",
       "      <td>Washington County</td>\n",
       "      <td>1997-01-31</td>\n",
       "      <td>96387.0</td>\n",
       "    </tr>\n",
       "    <tr>\n",
       "      <th>3</th>\n",
       "      <td>149379</td>\n",
       "      <td>89749</td>\n",
       "      <td>916</td>\n",
       "      <td>72764</td>\n",
       "      <td>Zip</td>\n",
       "      <td>AR</td>\n",
       "      <td>AR</td>\n",
       "      <td>Springdale</td>\n",
       "      <td>Fayetteville-Springdale-Rogers</td>\n",
       "      <td>Washington County</td>\n",
       "      <td>1997-01-31</td>\n",
       "      <td>93065.0</td>\n",
       "    </tr>\n",
       "    <tr>\n",
       "      <th>4</th>\n",
       "      <td>149928</td>\n",
       "      <td>89745</td>\n",
       "      <td>1592</td>\n",
       "      <td>72758</td>\n",
       "      <td>Zip</td>\n",
       "      <td>AR</td>\n",
       "      <td>AR</td>\n",
       "      <td>Rogers</td>\n",
       "      <td>Fayetteville-Springdale-Rogers</td>\n",
       "      <td>Benton County</td>\n",
       "      <td>1997-01-31</td>\n",
       "      <td>139311.0</td>\n",
       "    </tr>\n",
       "  </tbody>\n",
       "</table>\n",
       "</div>"
      ],
      "text/plain": [
       "   Unnamed: 0  RegionID  SizeRank  RegionName RegionType StateName State  \\\n",
       "0      148888     89249       332       71913        Zip        AR    AR   \n",
       "1      149173     89319       664       72034        Zip        AR    AR   \n",
       "2      149341     89707       870       72701        Zip        AR    AR   \n",
       "3      149379     89749       916       72764        Zip        AR    AR   \n",
       "4      149928     89745      1592       72758        Zip        AR    AR   \n",
       "\n",
       "           City                                 Metro         CountyName  \\\n",
       "0   Hot Springs                           Hot Springs     Garland County   \n",
       "1        Conway  Little Rock-North Little Rock-Conway    Faulkner County   \n",
       "2  Fayetteville        Fayetteville-Springdale-Rogers  Washington County   \n",
       "3    Springdale        Fayetteville-Springdale-Rogers  Washington County   \n",
       "4        Rogers        Fayetteville-Springdale-Rogers      Benton County   \n",
       "\n",
       "         Date  MedianHousingValue  \n",
       "0  1997-01-31             90258.0  \n",
       "1  1997-01-31            103502.0  \n",
       "2  1997-01-31             96387.0  \n",
       "3  1997-01-31             93065.0  \n",
       "4  1997-01-31            139311.0  "
      ]
     },
     "execution_count": 20,
     "metadata": {},
     "output_type": "execute_result"
    }
   ],
   "source": [
    "zwillow_ImportantMetros.head()"
   ]
  },
  {
   "cell_type": "code",
   "execution_count": 21,
   "id": "6f6941dc-bd26-49d3-b60a-001e7ab284e1",
   "metadata": {},
   "outputs": [],
   "source": [
    "zwillow_ImportantMetros.drop('Unnamed: 0', axis=1, inplace=True)"
   ]
  },
  {
   "cell_type": "code",
   "execution_count": 22,
   "id": "8f73091b-3b1c-449f-ae3f-6258f024d790",
   "metadata": {},
   "outputs": [],
   "source": [
    "zwillow_ImportantMetros['RegionID'] = zwillow_ImportantMetros['RegionID'].astype('string')\n",
    "zwillow_ImportantMetros['SizeRank'] = zwillow_ImportantMetros['SizeRank'].astype('category')\n",
    "zwillow_ImportantMetros['RegionName'] = zwillow_ImportantMetros['RegionName'].astype('string')\n",
    "zwillow_ImportantMetros['RegionID'] = zwillow_ImportantMetros['RegionID'].astype('string')\n",
    "zwillow_ImportantMetros['Date'] = zwillow_ImportantMetros['Date'].astype('datetime64[ns]')"
   ]
  },
  {
   "cell_type": "code",
   "execution_count": 23,
   "id": "acd3339d-c58c-46c1-a7b3-7c0ddfb23c92",
   "metadata": {},
   "outputs": [
    {
     "data": {
      "text/html": [
       "<div>\n",
       "<style scoped>\n",
       "    .dataframe tbody tr th:only-of-type {\n",
       "        vertical-align: middle;\n",
       "    }\n",
       "\n",
       "    .dataframe tbody tr th {\n",
       "        vertical-align: top;\n",
       "    }\n",
       "\n",
       "    .dataframe thead th {\n",
       "        text-align: right;\n",
       "    }\n",
       "</style>\n",
       "<table border=\"1\" class=\"dataframe\">\n",
       "  <thead>\n",
       "    <tr style=\"text-align: right;\">\n",
       "      <th></th>\n",
       "      <th></th>\n",
       "      <th>median_MedianHousingValue</th>\n",
       "    </tr>\n",
       "    <tr>\n",
       "      <th>RegionName</th>\n",
       "      <th>Date</th>\n",
       "      <th></th>\n",
       "    </tr>\n",
       "  </thead>\n",
       "  <tbody>\n",
       "    <tr>\n",
       "      <th rowspan=\"5\" valign=\"top\">71901</th>\n",
       "      <th>1997-01-31</th>\n",
       "      <td>57105.0</td>\n",
       "    </tr>\n",
       "    <tr>\n",
       "      <th>1997-02-28</th>\n",
       "      <td>57772.0</td>\n",
       "    </tr>\n",
       "    <tr>\n",
       "      <th>1997-03-31</th>\n",
       "      <td>58224.0</td>\n",
       "    </tr>\n",
       "    <tr>\n",
       "      <th>1997-04-30</th>\n",
       "      <td>58363.0</td>\n",
       "    </tr>\n",
       "    <tr>\n",
       "      <th>1997-05-31</th>\n",
       "      <td>57788.0</td>\n",
       "    </tr>\n",
       "  </tbody>\n",
       "</table>\n",
       "</div>"
      ],
      "text/plain": [
       "                       median_MedianHousingValue\n",
       "RegionName Date                                 \n",
       "71901      1997-01-31                    57105.0\n",
       "           1997-02-28                    57772.0\n",
       "           1997-03-31                    58224.0\n",
       "           1997-04-30                    58363.0\n",
       "           1997-05-31                    57788.0"
      ]
     },
     "execution_count": 23,
     "metadata": {},
     "output_type": "execute_result"
    }
   ],
   "source": [
    "zwillow_ImportantMetros_RegionType_HousingValue = zwillow_ImportantMetros \\\n",
    "    .groupby(['RegionName', 'Date']) \\\n",
    "    .agg(\n",
    "        median_MedianHousingValue = pd.NamedAgg('MedianHousingValue', 'median') \n",
    "    )\n",
    "zwillow_ImportantMetros_RegionType_HousingValue.head()"
   ]
  },
  {
   "cell_type": "code",
   "execution_count": 24,
   "id": "4c6e2d1a-4ca8-4fd4-a23c-2a4c95d98411",
   "metadata": {},
   "outputs": [],
   "source": [
    "Zipcodes = []\n",
    "Dates = []\n",
    "for i in range(0, len(zwillow_ImportantMetros_RegionType_HousingValue.index)):\n",
    "    Zipcodes.append(zwillow_ImportantMetros_RegionType_HousingValue.index[i][0])\n",
    "    Dates.append(zwillow_ImportantMetros_RegionType_HousingValue.index[i][1])\n",
    "\n",
    "zwillow_ImportantMetros_RegionType_HousingValue['ZipCode'] = Zipcodes\n",
    "zwillow_ImportantMetros_RegionType_HousingValue['Date'] = Dates"
   ]
  },
  {
   "cell_type": "code",
   "execution_count": 25,
   "id": "aa14a928-f1ec-4615-ad2e-dcf5480960bb",
   "metadata": {},
   "outputs": [
    {
     "name": "stdout",
     "output_type": "stream",
     "text": [
      "The 6-month forecast for 71901 is: [260846.67801391854, 392961.52533003554, 525855.3131734952, 659368.3276357455, 793391.6643663256, 927851.0646005676]\n",
      "The 6-month forecast for 71909 is: [365860.77154751983, 550447.7794281149, 735897.9386292252, 922075.7730816099, 1108873.373422411, 1296204.787714452]\n",
      "The 6-month forecast for 71913 is: [333946.96767819265, 502789.79362189985, 672526.0320777951, 842984.1833543289, 1014041.9240426044, 1185612.0060768737]\n",
      "The 6-month forecast for 71933 is: [282708.36560202454, 424708.6151583507, 567007.3416340236, 709557.0528442672, 852330.7066143295, 995312.9050588789]\n",
      "The 6-month forecast for 71949 is: [196706.5206792499, 296202.40038808115, 396108.75508292275, 496300.854333924, 596708.264442574, 697291.2123888339]\n",
      "The 6-month forecast for 71956 is: [157314.56750565098, 236856.79619653884, 316825.7850418693, 397165.07149020024, 477843.37009043735, 558843.3458227284]\n",
      "The 6-month forecast for 71964 is: [336857.0491808151, 506738.86341652623, 677356.2890590508, 848595.3733751775, 1020374.5271235488, 1192635.3330629305]\n",
      "The 6-month forecast for 71968 is: [369634.1236031864, 556043.4159676903, 743158.8416775239, 930837.2805544558, 1118990.073527194, 1307562.2987040845]\n",
      "The 6-month forecast for 72001 is: [128863.9585876817, 192871.51032171978, 256757.8976743857, 320596.05907748465, 384435.14358242456, 448308.2699332546]\n",
      "The 6-month forecast for 72002 is: [320159.5543043776, 480971.39804191596, 642160.3492811035, 803676.5012936952, 965486.2787673022, 1127567.093533121]\n",
      "The 6-month forecast for 72007 is: [307387.8247884354, 461315.7446445959, 615441.5286442944, 769777.1429231776, 924328.3684156412, 1079097.997936632]\n",
      "The 6-month forecast for 72010 is: [166751.5870977134, 249920.18880170412, 333033.99073251104, 416134.6899331272, 499252.68991020287, 582410.1594591797]\n",
      "The 6-month forecast for 72011 is: [290715.14393376384, 436483.18192073074, 582473.7333387787, 728663.2752030906, 875035.7132494979, 1021580.0358933256]\n",
      "The 6-month forecast for 72012 is: [257310.06184896568, 385991.14970808977, 514744.60750871256, 643599.8614842689, 772579.4941708706, 901700.8360548802]\n",
      "The 6-month forecast for 72015 is: [261354.86397939725, 392569.38640385884, 524079.0615978171, 655854.3704585447, 787874.8127254484, 920126.1514927429]\n",
      "The 6-month forecast for 72016 is: [301577.50617269904, 452775.2679314159, 604270.998421846, 756075.5456285852, 908195.9506420385, 1060636.7836156436]\n",
      "The 6-month forecast for 72019 is: [384818.05986340635, 578200.7312030635, 772077.9532624843, 966380.9553686737, 1161063.848032505, 1356096.0099859205]\n",
      "The 6-month forecast for 72020 is: [130150.36933707536, 195506.63248335282, 261002.7550176088, 326616.6564129491, 392333.11711336777, 458141.6466588263]\n",
      "The 6-month forecast for 72022 is: [334074.7757590513, 501607.6121030863, 669433.8048218958, 837536.7314149042, 1005905.2072490861, 1174531.7066206313]\n",
      "The 6-month forecast for 72023 is: [315971.4011645019, 474308.1041410633, 632873.2535872383, 791663.9346887355, 950677.9437133389, 1109913.6145392323]\n",
      "The 6-month forecast for 72024 is: [201947.82480213942, 302261.39955529623, 402331.75932976656, 502248.33978784666, 602071.7213319434, 701842.9388810317]\n",
      "The 6-month forecast for 72032 is: [292736.20375113044, 439607.8447992933, 586787.9923292561, 734262.1761320845, 882019.3355670167, 1030051.0161760275]\n",
      "The 6-month forecast for 72033 is: [244310.89811427196, 368288.42520184454, 493211.7594902782, 618925.468861258, 745302.9475134908, 872241.069856881]\n",
      "The 6-month forecast for 72034 is: [374097.843711255, 561722.0036258907, 749714.8532466984, 938067.3786146317, 1126771.9336111161, 1315822.0323924785]\n",
      "The 6-month forecast for 72037 is: [147879.18427709618, 222629.21169531415, 297629.4910920582, 372758.2659045233, 447937.7536144427, 523118.26392169175]\n",
      "The 6-month forecast for 72039 is: [245451.5104241956, 368288.28497098037, 491286.9459001833, 614486.6547447125, 737913.5726533227, 861585.1761049293]\n",
      "The 6-month forecast for 72045 is: [298244.1845761711, 448003.235413239, 598151.5534175423, 748675.8102621265, 899568.145264521, 1050823.9224093338]\n",
      "The 6-month forecast for 72046 is: [139667.21544636588, 209101.67518985353, 278391.6456972305, 347594.4669452149, 416750.1050713988, 485886.41659483634]\n",
      "The 6-month forecast for 72047 is: [314703.5877128729, 472802.4422780989, 631278.7537803918, 790074.9842836559, 949150.6666381757, 1108477.3397916916]\n",
      "The 6-month forecast for 72052 is: [64578.13056653739, 97056.31084417277, 129584.61168798503, 162122.47925184327, 194638.8415348969, 227109.89144290038]\n",
      "The 6-month forecast for 72053 is: [77720.08886066356, 117877.81262675388, 158879.09857220633, 200708.24636725642, 243349.91945022042, 286789.1365991874]\n",
      "The 6-month forecast for 72058 is: [338078.4775639372, 507843.50332884275, 678003.8132803015, 848524.4964251661, 1019384.2692845367, 1190570.156390423]\n",
      "The 6-month forecast for 72060 is: [144863.108389595, 217441.88932948658, 290120.4602751769, 362899.6195505197, 435779.93748782284, 508761.8215394503]\n",
      "The 6-month forecast for 72065 is: [313611.4354032794, 470566.9711291051, 627713.0713680263, 785078.8496276727, 942679.5877740213, 1100523.307356063]\n",
      "The 6-month forecast for 72066 is: [290503.16576032643, 437409.6079985756, 585226.0749901932, 733873.2220446004, 883301.1838633602, 1033478.6218909869]\n",
      "The 6-month forecast for 72068 is: [145030.68120590842, 217690.60787857595, 290429.12816858443, 363240.948957967, 436123.43999006925, 509075.29423751903]\n",
      "The 6-month forecast for 72070 is: [167051.8404854159, 249243.8380495211, 330765.6506968814, 411748.2958134405, 492301.34683253226, 572516.4430217706]\n",
      "The 6-month forecast for 72072 is: [110974.07224828374, 167324.6279473674, 224026.54330102843, 280963.89976045216, 338050.0754772408, 395220.3409952668]\n",
      "The 6-month forecast for 72076 is: [213517.66339129128, 321341.9047169733, 429702.16980645503, 538504.9939180849, 647678.5106741852, 757167.4609882893]\n",
      "The 6-month forecast for 72081 is: [194093.73415218416, 291344.62959482695, 388735.1315284033, 486266.9845587282, 583941.4334301408, 681759.3662449603]\n",
      "The 6-month forecast for 72082 is: [93382.36084965896, 140059.803734385, 186756.4837524112, 233483.12990352957, 280246.08263465244, 327049.0889182683]\n",
      "The 6-month forecast for 72083 is: [124059.04175289666, 186468.67545578195, 248971.80103251306, 311503.7016206946, 374024.1440866585, 436508.1163240567]\n",
      "The 6-month forecast for 72084 is: [136640.96355333575, 204628.08156939797, 272503.6832540286, 340318.36650838936, 408106.57469256944, 475891.7543335394]\n",
      "The 6-month forecast for 72085 is: [120954.88058107597, 181541.63203924405, 242198.26894680594, 302923.4815659381, 363716.4058948097, 424576.47197266197]\n",
      "The 6-month forecast for 72086 is: [234635.27173812903, 351995.2845459196, 469451.39347737905, 587034.0876581185, 704763.8628586949, 822654.49699508]\n",
      "The 6-month forecast for 72087 is: [300551.5713062624, 451592.5536181245, 603013.8859531845, 754764.0501336002, 906811.4723831406, 1059136.8021854]\n",
      "The 6-month forecast for 72102 is: [192091.3586407483, 288330.1342374134, 384706.10619547806, 481223.4194915331, 577885.0468934505, 674693.1204636503]\n",
      "The 6-month forecast for 72103 is: [249566.47581560278, 374671.89120843593, 499979.67620109994, 625483.4643758547, 751178.526283257, 877061.3485358807]\n",
      "The 6-month forecast for 72106 is: [266011.998191025, 399123.32100965874, 532358.4976537416, 665738.3259536384, 799275.3329813618, 932977.0641169087]\n",
      "The 6-month forecast for 72111 is: [301263.1809582483, 452472.6523262242, 604032.4126695406, 755924.9472650161, 908137.4749795243, 1060660.668953468]\n",
      "The 6-month forecast for 72113 is: [436050.15304594, 655144.0532631804, 874795.9844986743, 1094929.611666534, 1315489.8150412545, 1536436.7939976773]\n",
      "The 6-month forecast for 72114 is: [67770.55480230873, 101758.69826734118, 135779.06009869004, 169817.62374865558, 203865.98266534842, 237919.09494285975]\n",
      "The 6-month forecast for 72116 is: [349462.0538779474, 524741.0290536843, 700345.4597545094, 876255.0304336204, 1052454.7143358497, 1228933.3966547358]\n",
      "The 6-month forecast for 72117 is: [136425.2096410924, 205522.79178587638, 274991.5942307927, 344730.8254121747, 414671.4483801114, 484766.1764344109]\n",
      "The 6-month forecast for 72118 is: [178499.10954031395, 269469.91014980583, 361389.73320382816, 454137.00109914085, 547608.1093211136, 641714.7694418966]\n",
      "The 6-month forecast for 72120 is: [306696.49467078096, 460906.3231420167, 615584.8804389595, 770675.8266773168, 926136.0372914879, 1081932.503194187]\n",
      "The 6-month forecast for 72121 is: [235337.5366568875, 353232.69319241453, 471289.5932558597, 589512.8155139842, 707905.3028670475, 826468.9468398949]\n",
      "The 6-month forecast for 72122 is: [506416.05509951594, 760403.9717860452, 1014804.7247503788, 1269578.8285074057, 1524703.363594465, 1780165.026343963]\n",
      "The 6-month forecast for 72125 is: [135869.2509324443, 203485.93140863185, 271000.5929345742, 338468.5573447943, 405930.3334992284, 473415.5836053483]\n",
      "The 6-month forecast for 72126 is: [179622.92321590107, 269414.165314946, 359229.2612134934, 449089.94535463693, 539014.0201693395, 629016.0674229045]\n",
      "The 6-month forecast for 72128 is: [203552.76183635497, 306475.47046885453, 409914.7517329453, 513754.27522444894, 617913.187587219, 722335.2931495714]\n",
      "The 6-month forecast for 72135 is: [501688.0254215419, 754429.5381708344, 1008030.5113432629, 1262346.9067658097, 1517297.3722559772, 1772835.9604273287]\n",
      "The 6-month forecast for 72136 is: [249151.055805812, 374120.59234535065, 499310.5654706997, 624702.5025359229, 750284.2356317329, 876047.7497711625]\n",
      "The 6-month forecast for 72137 is: [243900.17197280383, 366104.7919843785, 488506.6066899053, 611116.3738110837, 733940.6144965459, 856983.2817561085]\n",
      "The 6-month forecast for 72139 is: [90669.69006798524, 136125.87691897395, 181664.7792550496, 227287.21913987643, 272993.7510885219, 318784.74914374395]\n",
      "The 6-month forecast for 72142 is: [340558.5100779707, 510924.1998210858, 681484.5151964921, 852290.8910491744, 1023373.580841527, 1194750.3793581382]\n",
      "The 6-month forecast for 72143 is: [272835.5112970894, 409383.23349016695, 546055.888840656, 682874.0562393289, 819853.5835494599, 957006.6752563705]\n",
      "The 6-month forecast for 72150 is: [149041.67567609512, 223957.33528616492, 299071.21025390225, 374358.2672839174, 449803.5030906432, 525397.9257066097]\n",
      "The 6-month forecast for 72165 is: [123759.38958797214, 186376.2979714045, 249281.28157524625, 312391.9368890615, 375656.9942417502, 439044.5547595777]\n",
      "The 6-month forecast for 72167 is: [226727.26221715554, 340693.394340738, 454957.826796, 569480.4163134258, 684236.9554064341, 799212.8463002637]\n",
      "The 6-month forecast for 72173 is: [324872.47265743243, 487430.33723930916, 650138.7082545089, 813030.7566722608, 976129.8365129248, 1139452.390174165]\n",
      "The 6-month forecast for 72176 is: [251184.7885868648, 377126.91697009816, 503281.9899718373, 629641.2329513518, 756198.8979954197, 882951.2198779284]\n",
      "The 6-month forecast for 72178 is: [79316.2451649505, 118665.69647888768, 157877.08866303836, 196985.11199744788, 236015.51640632752, 274987.41556059656]\n",
      "The 6-month forecast for 72180 is: [133332.8890923342, 200307.18989260297, 267638.18039352313, 335372.013659777, 403532.0261530478, 472130.01753274386]\n",
      "The 6-month forecast for 72181 is: [376467.6233582625, 565486.9357410794, 754971.5311585114, 944901.3078512944, 1135265.1665270813, 1326056.9786530912]\n",
      "The 6-month forecast for 72201 is: [558028.7208797315, 840933.807739385, 1125494.3918623247, 1411315.8809530793, 1698145.8662325267, 1985822.8894245946]\n",
      "The 6-month forecast for 72202 is: [200834.00629315106, 302470.6048801124, 404608.964834352, 507115.19078333484, 609902.1822553856, 712913.2793971992]\n",
      "The 6-month forecast for 72204 is: [154384.9165555819, 232337.46666143223, 310655.6544927869, 389268.3583662567, 468123.4286778724, 547182.6270020999]\n",
      "The 6-month forecast for 72205 is: [328972.4471565446, 494620.9659056371, 660949.2996149759, 827899.4833058853, 995422.2918900535, 1163475.9223792858]\n",
      "The 6-month forecast for 72206 is: [159533.5074037976, 239860.04092982324, 320408.38526570384, 401126.7765978946, 481986.77483183774, 562972.7543997269]\n",
      "The 6-month forecast for 72207 is: [606730.6577894398, 912143.9693793706, 1218646.5639957192, 1526103.5252493203, 1834418.2222686657, 2143521.445335157]\n",
      "The 6-month forecast for 72209 is: [151545.31995648664, 228236.3317757074, 305396.60560806585, 382947.11375367694, 460825.66974731936, 538983.3393993058]\n",
      "The 6-month forecast for 72210 is: [368730.524183087, 554227.6349758212, 740337.531374902, 926984.5051287097, 1114110.5432700494, 1301671.1921985438]\n",
      "The 6-month forecast for 72211 is: [390548.0624608997, 586740.731521253, 783442.9962293382, 980598.7695281885, 1178164.3669797564, 1376105.76415433]\n",
      "The 6-month forecast for 72212 is: [570861.245881289, 857039.2268600943, 1143687.4502997207, 1430791.0219935179, 1718338.5613676198, 2006321.3725938727]\n",
      "The 6-month forecast for 72223 is: [678703.3707214061, 1019376.382132068, 1360795.4516236968, 1702886.481064855, 2045591.4203215705, 2388864.79162013]\n",
      "The 6-month forecast for 72227 is: [383355.9680564138, 575955.9318750269, 769077.3330121277, 962668.3721341848, 1156688.1213179228, 1351104.2424078204]\n",
      "The 6-month forecast for 72701 is: [459931.0915912763, 690486.6664460069, 921456.3890223424, 1152851.9519130376, 1384682.678116864, 1616956.001255083]\n",
      "The 6-month forecast for 72703 is: [486453.0532562856, 729865.5894455621, 973499.8266086023, 1217408.3907558161, 1461631.8796079874, 1706201.61180242]\n",
      "The 6-month forecast for 72704 is: [426505.42673195596, 639237.403200399, 851811.3951706405, 1064333.9894681156, 1276890.3071823395, 1489548.3266947933]\n",
      "The 6-month forecast for 72712 is: [510941.75835895346, 767774.3869618259, 1025429.3669535381, 1283854.0530598548, 1543003.3936474877, 1802838.835404836]\n",
      "The 6-month forecast for 72714 is: [383684.72748447116, 576897.88959056, 770887.9814430285, 965574.6330139157, 1160891.5979603725, 1356784.2716237686]\n",
      "The 6-month forecast for 72715 is: [387483.97585760814, 582214.8329112952, 777512.9165606176, 973327.3073270041, 1169617.9029860168, 1366353.1205668552]\n",
      "The 6-month forecast for 72717 is: [282738.90692471305, 426083.5208480415, 570231.6328058334, 714977.711089498, 860194.9785478157, 1005805.2358305175]\n",
      "The 6-month forecast for 72718 is: [597391.4216937453, 897128.4926931561, 1197508.0008827564, 1498501.9101206884, 1800088.5142668947, 2102251.0079949303]\n",
      "The 6-month forecast for 72719 is: [391594.58208895056, 588484.3497254803, 786027.0972879548, 984176.4776199955, 1182892.8627487172, 1382142.3697704487]\n",
      "The 6-month forecast for 72721 is: [217272.0822687411, 325660.6116247614, 433968.60316665313, 542241.6640460931, 650515.0396889757, 758815.9679297368]\n",
      "The 6-month forecast for 72722 is: [314254.335592302, 472724.80024851963, 631904.0203101933, 791694.8011839474, 952024.1234538206, 1112837.129797794]\n",
      "The 6-month forecast for 72727 is: [307710.0511829789, 461208.15803313657, 614600.4568311945, 767961.0846228048, 921349.0549470036, 1074811.3429396213]\n",
      "The 6-month forecast for 72729 is: [280845.2348054508, 425168.8543932808, 571416.8678862028, 719257.2607193312, 868451.4271610047, 1018827.8907122891]\n",
      "The 6-month forecast for 72730 is: [387458.4246933011, 580603.4093100661, 773567.0178434659, 966463.8695951895, 1159383.908596168, 1352397.7157047817]\n",
      "The 6-month forecast for 72732 is: [485775.3179285756, 730768.5358989243, 976702.3321352382, 1223377.2392427463, 1470663.3701395658, 1718476.1463207274]\n",
      "The 6-month forecast for 72734 is: [349751.5999242903, 525587.7562972149, 701955.3364970841, 878801.5198586532, 1056088.6708226588, 1233789.9734579786]\n",
      "The 6-month forecast for 72735 is: [435343.1239600506, 652322.4993215457, 869283.5450305359, 1086387.3558721854, 1303726.4774115232, 1521354.0751287218]\n",
      "The 6-month forecast for 72736 is: [372309.02586761455, 559468.1064674628, 747199.1283877844, 935453.1174583734, 1124194.336122691, 1313396.7058797225]\n",
      "The 6-month forecast for 72738 is: [365302.4244609569, 547770.1030662437, 730210.4548366788, 912682.119143132, 1095235.3535861198, 1277913.2320658597]\n",
      "The 6-month forecast for 72739 is: [397244.7001094732, 597220.1702813073, 797826.3112788373, 998952.2683521081, 1200528.6522941475, 1402512.0291335094]\n",
      "The 6-month forecast for 72740 is: [231188.63136167594, 347359.18188700476, 463881.36457029846, 580735.6109661579, 697905.4773951991, 815377.1459691759]\n",
      "The 6-month forecast for 72744 is: [281444.08359311766, 422150.7865056684, 562923.2825659097, 703799.6242057553, 844807.5645654853, 985967.3451055441]\n",
      "The 6-month forecast for 72745 is: [396054.73815878143, 595415.0688497105, 795573.8667966675, 996474.6909028155, 1198068.6262521355, 1400313.2805251428]\n",
      "The 6-month forecast for 72747 is: [449535.3928467784, 671662.3499162381, 892597.2173431575, 1112664.9483865984, 1332127.9902566802, 1551198.3074011463]\n",
      "The 6-month forecast for 72749 is: [279822.3770684225, 420108.864566992, 560767.8014023853, 701834.1358143197, 843324.7519321722, 985247.8067855138]\n",
      "The 6-month forecast for 72751 is: [351864.1645633031, 529037.6434740016, 706920.0856837973, 885442.3119567868, 1064547.58598943, 1244189.3763608844]\n",
      "The 6-month forecast for 72752 is: [198452.33450456566, 298309.54340133513, 398466.29406132473, 498869.88907020935, 599485.759442613, 700291.2282642082]\n",
      "The 6-month forecast for 72753 is: [353776.3493294958, 530331.3771668591, 706807.0150827945, 883284.546479118, 1059829.4314627585, 1236494.387138357]\n",
      "The 6-month forecast for 72756 is: [376674.9077504265, 566155.2278541524, 756326.6698588283, 947144.2608156163, 1138568.5671450782, 1330565.0123467287]\n",
      "The 6-month forecast for 72758 is: [502003.88437849167, 754343.0894338412, 1007474.472409928, 1261338.1814832082, 1515883.863800111, 1771069.1579134394]\n",
      "The 6-month forecast for 72760 is: [145637.73322777555, 218482.57931185665, 291385.55744625063, 364364.3100523792, 437430.3569051676, 510591.21994342183]\n",
      "The 6-month forecast for 72761 is: [342405.8368896269, 514668.1742578937, 687526.4670100061, 860919.5654490582, 1034799.2487889181, 1209127.4915882042]\n",
      "The 6-month forecast for 72762 is: [414448.3850109844, 621674.7744132773, 828965.4368243905, 1036359.3169775917, 1243889.9191487487, 1451586.0671712083]\n",
      "The 6-month forecast for 72764 is: [350094.7910862962, 524662.9909091444, 698989.0362267103, 873123.7930114353, 1047113.1063337395, 1220998.2959675496]\n",
      "The 6-month forecast for 72768 is: [291255.70988383645, 437646.74460873957, 584370.6529226508, 731340.2364579706, 878492.3696333368, 1025781.353898054]\n",
      "The 6-month forecast for 72769 is: [399038.4979105465, 603286.3798587482, 809925.8181773679, 1018574.0325004093, 1228950.7759745128, 1440850.8701062275]\n",
      "The 6-month forecast for 72773 is: [276548.1855163002, 415050.82094730367, 553727.4975286103, 692591.5245749953, 831654.2634605239, 970925.4127176021]\n",
      "The 6-month forecast for 72774 is: [337323.0730113347, 505802.5780662077, 674311.5742337705, 842924.1494286185, 1011693.564553788, 1180658.1082263598]\n",
      "The 6-month forecast for 72776 is: [217381.52351071566, 326728.6909813228, 436408.9194494092, 546376.0436842889, 656599.4350888107, 767058.7729378426]\n",
      "The 6-month forecast for 72959 is: [302021.7385415902, 452365.86093929486, 602593.2839290741, 752833.1871693435, 903164.315663761, 1053634.6705889604]\n"
     ]
    }
   ],
   "source": [
    "zipcode_predictions= []\n",
    "prediction_averages = []\n",
    "for zipcode in zwillow_ImportantMetros_RegionType_HousingValue['ZipCode'].unique():\n",
    "    forecasts = []\n",
    "    zipcode_df = zwillow_ImportantMetros_RegionType_HousingValue[zwillow_ImportantMetros_RegionType_HousingValue['ZipCode']==zipcode]\n",
    "    \n",
    "    arima_model = ARIMA(zipcode_df.median_MedianHousingValue, order=(1, 1, 1))\n",
    "    fitted_model = arima_model.fit(maxiter=500)\n",
    "    \n",
    "    forecast = fitted_model.forecast(steps=6)[0]\n",
    "    \n",
    "    history = [x for x in zipcode_df.median_MedianHousingValue]\n",
    "    day = 1\n",
    "    for yhat in forecast:\n",
    "        inverted = inverse_difference(history=history, yhat=yhat)\n",
    "        forecasts.append(inverted)\n",
    "        history.append(inverted)\n",
    "        day += 1\n",
    "    print('The 6-month forecast for {0} is: {1}'.format(zipcode, forecasts))\n",
    "    forecast_mean = np.mean(forecasts)\n",
    "    prediction_averages.append(forecast_mean)\n",
    "    zipcode_predictions.append(forecasts)"
   ]
  },
  {
   "cell_type": "code",
   "execution_count": 26,
   "id": "9fc1ccfb-86e4-4670-9d92-f451df58846c",
   "metadata": {},
   "outputs": [
    {
     "name": "stdout",
     "output_type": "stream",
     "text": [
      "72223 had the highest 6-month forcasted average.\n",
      "The 6-month forcasted average for 72223 was ~$1,532,702.98, and this was calculated from the individual forecasts of [678703.3707214061, 1019376.382132068, 1360795.4516236968, 1702886.481064855, 2045591.4203215705, 2388864.79162013]\n"
     ]
    }
   ],
   "source": [
    "highest_average = max(prediction_averages)\n",
    "highest_average_index = prediction_averages.index(highest_average)\n",
    "forecast_highest_average = zipcode_predictions[highest_average_index]\n",
    "zipcode_highest_average = zwillow_ImportantMetros_RegionType_HousingValue['ZipCode'].unique()[highest_average_index]\n",
    "\n",
    "print('{0} had the highest 6-month forcasted average.'.format(zipcode_highest_average))\n",
    "print('The 6-month forcasted average for {} was ~${:,.2f}, and this was calculated from the individual forecasts of {}'.format(zipcode_highest_average, highest_average, forecast_highest_average))"
   ]
  },
  {
   "cell_type": "code",
   "execution_count": 27,
   "id": "39c2ea56-79e2-48d6-8a15-f83552c2f79d",
   "metadata": {},
   "outputs": [
    {
     "name": "stdout",
     "output_type": "stream",
     "text": [
      "[(1532702.9829139544, 85), (1373594.0640029453, 80), (1348811.5579420286, 94)]\n"
     ]
    }
   ],
   "source": [
    "top_3_highest_averages = sorted([(x, i) for (i, x) in enumerate(prediction_averages)], reverse=True)[:3]\n",
    "print(top_3_highest_averages)"
   ]
  },
  {
   "cell_type": "code",
   "execution_count": 28,
   "id": "8a0817cc-918d-4601-9207-190ef3a514cd",
   "metadata": {},
   "outputs": [
    {
     "name": "stdout",
     "output_type": "stream",
     "text": [
      "72223 had the highest 6-month forcasted average.\n",
      "The 6-month forcasted average for 72223 was ~$1,532,702.98, and this was calculated from the individual forecasts of [678703.3707214061, 1019376.382132068, 1360795.4516236968, 1702886.481064855, 2045591.4203215705, 2388864.79162013]\n"
     ]
    }
   ],
   "source": [
    "print('{0} had the highest 6-month forcasted average.'.format(zwillow_ImportantMetros_RegionType_HousingValue['ZipCode'].unique()[85]))\n",
    "print('The 6-month forcasted average for {} was ~${:,.2f}, and this was calculated from the individual forecasts of {}'.format(zwillow_ImportantMetros_RegionType_HousingValue['ZipCode'].unique()[85], prediction_averages[85], zipcode_predictions[85]))"
   ]
  },
  {
   "cell_type": "code",
   "execution_count": 29,
   "id": "be4dff69-baad-4166-a925-0c98d39a4c5e",
   "metadata": {},
   "outputs": [
    {
     "name": "stdout",
     "output_type": "stream",
     "text": [
      "72207 had the second highest 6-month forcasted average.\n",
      "The 6-month forcasted average for 72207 was ~$1,373,594.06, and this was calculated from the individual forecasts of [606730.6577894398, 912143.9693793706, 1218646.5639957192, 1526103.5252493203, 1834418.2222686657, 2143521.445335157]\n"
     ]
    }
   ],
   "source": [
    "print('{0} had the second highest 6-month forcasted average.'.format(zwillow_ImportantMetros_RegionType_HousingValue['ZipCode'].unique()[80]))\n",
    "print('The 6-month forcasted average for {} was ~${:,.2f}, and this was calculated from the individual forecasts of {}'.format(zwillow_ImportantMetros_RegionType_HousingValue['ZipCode'].unique()[80], prediction_averages[80], zipcode_predictions[80]))"
   ]
  },
  {
   "cell_type": "code",
   "execution_count": 30,
   "id": "299342bd-ce9e-4928-a683-407e450aeab3",
   "metadata": {},
   "outputs": [
    {
     "name": "stdout",
     "output_type": "stream",
     "text": [
      "72718 had the third highest 6-month forcasted average.\n",
      "The 6-month forcasted average for 72718 was ~$1,348,811.56, and this was calculated from the individual forecasts of [597391.4216937453, 897128.4926931561, 1197508.0008827564, 1498501.9101206884, 1800088.5142668947, 2102251.0079949303]\n"
     ]
    }
   ],
   "source": [
    "print('{0} had the third highest 6-month forcasted average.'.format(zwillow_ImportantMetros_RegionType_HousingValue['ZipCode'].unique()[94]))\n",
    "print('The 6-month forcasted average for {} was ~${:,.2f}, and this was calculated from the individual forecasts of {}'.format(zwillow_ImportantMetros_RegionType_HousingValue['ZipCode'].unique()[94], prediction_averages[94], zipcode_predictions[94]))"
   ]
  },
  {
   "cell_type": "code",
   "execution_count": 31,
   "id": "9753dcf5-c511-4923-9c24-4f6cc3cac31d",
   "metadata": {},
   "outputs": [],
   "source": [
    "current_house_values = []\n",
    "for zipcode in zwillow_ImportantMetros_RegionType_HousingValue['ZipCode'].unique():\n",
    "    zipcode_df = zwillow_ImportantMetros_RegionType_HousingValue[zwillow_ImportantMetros_RegionType_HousingValue['ZipCode']==zipcode]\n",
    "    current_house_value = zipcode_df[zipcode_df['Date']=='2020-03-31']['median_MedianHousingValue'].values[0]\n",
    "    current_house_values.append(current_house_value)"
   ]
  },
  {
   "cell_type": "code",
   "execution_count": 32,
   "id": "059e9549-cd21-4a0b-9f9b-be2ab77e1fce",
   "metadata": {},
   "outputs": [],
   "source": [
    "roi = []\n",
    "for i in range(0, len(current_house_values)):\n",
    "    current_roi = round(((prediction_averages[i] - current_house_values[i])/current_house_values[i]) * 100, 4)\n",
    "    roi.append(current_roi)   "
   ]
  },
  {
   "cell_type": "code",
   "execution_count": 33,
   "id": "21cb4528-8c5e-4e93-9db6-c7a620ac8dd5",
   "metadata": {},
   "outputs": [
    {
     "name": "stdout",
     "output_type": "stream",
     "text": [
      "The best zip code for SREIT is 72053 because it had the highest ROI on 6-month forcasted average.\n",
      "The ROI on 6-month forcasted average for 72053 was ~370.7912%.\n",
      "The 6-month forcasted average for 72053 was ~$370.79, and this was calculated from the individual forecasts of [77720.08886066356, 117877.81262675388, 158879.09857220633, 200708.24636725642, 243349.91945022042, 286789.1365991874].\n"
     ]
    }
   ],
   "source": [
    "highest_roi = max(roi)\n",
    "highest_roi_index = roi.index(highest_roi)\n",
    "forecast_highest_roi = zipcode_predictions[highest_roi_index]\n",
    "zipcode_highest_roi = zwillow_ImportantMetros_RegionType_HousingValue['ZipCode'].unique()[highest_roi_index]\n",
    "\n",
    "print('The best zip code for SREIT is {0} because it had the highest ROI on 6-month forcasted average.'.format(zipcode_highest_roi))\n",
    "print('The ROI on 6-month forcasted average for {} was ~{}%.'.format(zipcode_highest_roi, highest_roi))\n",
    "print('The 6-month forcasted average for {} was ~${:,.2f}, and this was calculated from the individual forecasts of {}.'.format(zipcode_highest_roi, highest_roi, forecast_highest_roi))"
   ]
  },
  {
   "cell_type": "code",
   "execution_count": 34,
   "id": "ef2b9ee9-51fe-4277-ab14-b56db4a7e08b",
   "metadata": {},
   "outputs": [
    {
     "name": "stdout",
     "output_type": "stream",
     "text": [
      "[(370.7912, 30), (366.012, 99), (363.7066, 122)]\n"
     ]
    }
   ],
   "source": [
    "top_3_highest_rois = sorted([(x, i) for (i, x) in enumerate(roi)], reverse=True)[:3]\n",
    "print(top_3_highest_rois)"
   ]
  },
  {
   "cell_type": "markdown",
   "id": "9f14dbcb-4a8a-4f29-a4e0-103ff8b6a17f",
   "metadata": {},
   "source": [
    "### Best 3 zip codes for SREIT (based on ROI)"
   ]
  },
  {
   "cell_type": "code",
   "execution_count": 35,
   "id": "9c299aaa-d4b7-4e07-b68d-7dd7c0437a65",
   "metadata": {},
   "outputs": [
    {
     "name": "stdout",
     "output_type": "stream",
     "text": [
      "The best zip code for SREIT is 72053 because it had the highest ROI on 6-month forcasted average.\n",
      "The ROI on 6-month forcasted average for 72053 was ~370.7912%.\n",
      "The 6-month forcasted average for 72053 was ~$180,887.38, and this was calculated from the individual forecasts of [77720.08886066356, 117877.81262675388, 158879.09857220633, 200708.24636725642, 243349.91945022042, 286789.1365991874].\n"
     ]
    }
   ],
   "source": [
    "print('The best zip code for SREIT is {0} because it had the highest ROI on 6-month forcasted average.'.format(zwillow_ImportantMetros_RegionType_HousingValue['ZipCode'].unique()[30]))\n",
    "print('The ROI on 6-month forcasted average for {} was ~{}%.'.format(zwillow_ImportantMetros_RegionType_HousingValue['ZipCode'].unique()[30], roi[30]))\n",
    "print('The 6-month forcasted average for {} was ~${:,.2f}, and this was calculated from the individual forecasts of {}.'.format(zwillow_ImportantMetros_RegionType_HousingValue['ZipCode'].unique()[30], prediction_averages[30], zipcode_predictions[30]))"
   ]
  },
  {
   "cell_type": "code",
   "execution_count": 36,
   "id": "0fdfeb1f-010a-4589-8ede-f7a5c0e035a5",
   "metadata": {},
   "outputs": [
    {
     "name": "stdout",
     "output_type": "stream",
     "text": [
      "The second best zip code for SREIT is 72729 because it had the second highest ROI on 6-month forcasted average.\n",
      "The ROI on 6-month forcasted average for 72729 was ~366.012%.\n",
      "The 6-month forcasted average for 72729 was ~$647,327.92, and this was calculated from the individual forecasts of [280845.2348054508, 425168.8543932808, 571416.8678862028, 719257.2607193312, 868451.4271610047, 1018827.8907122891].\n"
     ]
    }
   ],
   "source": [
    "print('The second best zip code for SREIT is {0} because it had the second highest ROI on 6-month forcasted average.'.format(zwillow_ImportantMetros_RegionType_HousingValue['ZipCode'].unique()[99]))\n",
    "print('The ROI on 6-month forcasted average for {} was ~{}%.'.format(zwillow_ImportantMetros_RegionType_HousingValue['ZipCode'].unique()[99], roi[99]))\n",
    "print('The 6-month forcasted average for {} was ~${:,.2f}, and this was calculated from the individual forecasts of {}.'.format(zwillow_ImportantMetros_RegionType_HousingValue['ZipCode'].unique()[99], prediction_averages[99], zipcode_predictions[99]))"
   ]
  },
  {
   "cell_type": "code",
   "execution_count": 37,
   "id": "f42e4016-5947-4bbf-9089-e13e22b010e2",
   "metadata": {},
   "outputs": [
    {
     "name": "stdout",
     "output_type": "stream",
     "text": [
      "The third best zip code for SREIT is 72769 because it had the third highest ROI on 6-month forcasted average.\n",
      "The ROI on 6-month forcasted average for 72769 was ~363.7066%.\n",
      "The 6-month forcasted average for 72769 was ~$916,771.06, and this was calculated from the individual forecasts of [399038.4979105465, 603286.3798587482, 809925.8181773679, 1018574.0325004093, 1228950.7759745128, 1440850.8701062275].\n"
     ]
    }
   ],
   "source": [
    "print('The third best zip code for SREIT is {0} because it had the third highest ROI on 6-month forcasted average.'.format(zwillow_ImportantMetros_RegionType_HousingValue['ZipCode'].unique()[122]))\n",
    "print('The ROI on 6-month forcasted average for {} was ~{}%.'.format(zwillow_ImportantMetros_RegionType_HousingValue['ZipCode'].unique()[122], roi[122]))\n",
    "print('The 6-month forcasted average for {} was ~${:,.2f}, and this was calculated from the individual forecasts of {}.'.format(zwillow_ImportantMetros_RegionType_HousingValue['ZipCode'].unique()[122], prediction_averages[122], zipcode_predictions[122]))"
   ]
  },
  {
   "cell_type": "markdown",
   "id": "cf467ef3-9350-4c82-b891-c98fe996d435",
   "metadata": {},
   "source": [
    "## Lab Questions and Answers"
   ]
  },
  {
   "cell_type": "markdown",
   "id": "56190dd5-938c-433d-958a-9c87c81786e5",
   "metadata": {},
   "source": [
    "### What technique/algorith/decision process was used for down sampling?"
   ]
  },
  {
   "cell_type": "markdown",
   "id": "34e21af8-7ce9-4822-82aa-0bfba6b2c5ac",
   "metadata": {},
   "source": [
    "Down sampling is the act if applying an aggregation function to roll up very granular time series data into a more coarse grained set of data -- for example,converting daily data to monthly averages. \n",
    "\n",
    "The initial interval on this set of data was `monthly`. No dowm sampling was performed to conduct the analysis, nor to generate the prediction models."
   ]
  },
  {
   "cell_type": "markdown",
   "id": "bd3b6c56-773b-41fb-a0f8-14bafed9fc8d",
   "metadata": {},
   "source": [
    "### What three zip codes provide the best investment opportunity for the SREIT? Why?"
   ]
  },
  {
   "cell_type": "markdown",
   "id": "186db7fc-73b3-417f-896b-5fd637d66338",
   "metadata": {},
   "source": [
    "Assuming that the SREIT invests in real estate during March 2020 and holds the property for at least 6 months, then zip codes `72053`, `72729`, and `72769` provide the best investment opportunities. This is because these 3 zip codes have the top 3 highest returns on investment respectively.\n",
    "\n",
    "This was determined by forecasting out the median housing values for 6 months for every zip code, determining the average of the forecasts per zip code, and calculating the percentage difference between the average of the forecasts and the value on March 31, 2020 (Return on Investment (ROI)). Once this is calculated, better zip codes are ones which have higher ROIs.\n",
    "\n",
    "The ROI on 6-month forcasted average for `72053` was ~`370.7912`%.\n",
    "\n",
    "This means that if the SREIT invested into `72053` during March 2020, then the value of their investment would increase by ~371 percent after holding on to the property for 6 months. The initial value of the investment would be ~$`38,422.00`, and the average of the forecasted values is ~$`180,887.38`.\n",
    "\n",
    "The ROI on 6-month forcasted average for `72729` was ~`366.012`%.\n",
    "\n",
    "The ROI on 6-month forcasted average for `72769` was ~`363.7066`%."
   ]
  }
 ],
 "metadata": {
  "kernelspec": {
   "display_name": "Python 3",
   "language": "python",
   "name": "python3"
  },
  "language_info": {
   "codemirror_mode": {
    "name": "ipython",
    "version": 3
   },
   "file_extension": ".py",
   "mimetype": "text/x-python",
   "name": "python",
   "nbconvert_exporter": "python",
   "pygments_lexer": "ipython3",
   "version": "3.8.8"
  }
 },
 "nbformat": 4,
 "nbformat_minor": 5
}
