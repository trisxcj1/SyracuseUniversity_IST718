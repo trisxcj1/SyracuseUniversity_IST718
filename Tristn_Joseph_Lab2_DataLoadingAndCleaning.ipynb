{
 "cells": [
  {
   "cell_type": "markdown",
   "id": "5d461267-e9bb-42b1-8b04-121e54b97956",
   "metadata": {},
   "source": [
    "# Tristn Joseph - IST 718 - Lab 2 (Data Loading and Cleaning)"
   ]
  },
  {
   "cell_type": "markdown",
   "id": "8bc019b8-0cf7-4a36-8007-491b4e3612ad",
   "metadata": {},
   "source": [
    "## Introduction"
   ]
  },
  {
   "cell_type": "markdown",
   "id": "106abee7-c061-432f-b1f4-1fac4d38f883",
   "metadata": {},
   "source": [
    "Real estate investing involves the purchase, ownership, management, rental and/or sale of real estate for profit. Improvement of realty property as part of a real estate investment strategy is generally considered to be a sub-specialty of real estate investing called real estate development.\n",
    "\n",
    "In general, to invest means to allocate money (and other resources) with the expectation of a posotive return in the future. Therefore, the problem statement of an investor is: as an investor, I want to identify ideal oppoerunities quickly such that I can invest appropriately and maximize my returns. Therefore, as an investor, `how can I identify opportunities quickly`?\n",
    "\n",
    "One approach is to use `prediction models`. Predictive modeling is the act of using statistics to generate/predict outcomes, and it involves analyzing historical data to uncover trends and key inflection points.\n",
    "\n",
    "There are multiple factors which could affect real estate, and these factors can include crime rates, school zones, median income levels, geography, and even population. However, a useful indicator is the trend of real estate (aggregated at various levels).\n",
    "\n",
    "Within this assignment, the goal is to determine the best locations for the Syracuse Real Estate Investment Trust (SREIT) to invest into. The assumption is that the SREIT will purchase real estate at the current time (the most recent date within the data set -- `March 31, 2020`), and ideal investments will grow positively over time. To determine this, I analyze time series data of housing values, and generate predictive models to forecast the median housing values per location."
   ]
  },
  {
   "cell_type": "markdown",
   "id": "dd110fbb-940c-4b47-9aee-908548607c02",
   "metadata": {},
   "source": [
    "## Packages"
   ]
  },
  {
   "cell_type": "code",
   "execution_count": 1,
   "id": "c24d0f46-4898-4c26-9743-338a8492c3b4",
   "metadata": {},
   "outputs": [],
   "source": [
    "import pandas as pd"
   ]
  },
  {
   "cell_type": "code",
   "execution_count": 2,
   "id": "56627ef4-68ed-42d9-a45d-fe2bf3bc019d",
   "metadata": {},
   "outputs": [],
   "source": [
    "# displaying all rows and columns\n",
    "pd.set_option('max_rows', None)\n",
    "pd.set_option('max_columns', None)"
   ]
  },
  {
   "cell_type": "markdown",
   "id": "b1099bcc-188e-4134-8081-71361c1521ab",
   "metadata": {},
   "source": [
    "## Data Loading"
   ]
  },
  {
   "cell_type": "code",
   "execution_count": 3,
   "id": "b8950c27-904c-4b51-a74f-e93b6b9f1138",
   "metadata": {},
   "outputs": [],
   "source": [
    "# loading the base data from Zillow (files.zillowstatic.com/research/public/Zip/Zip_Zhvi_SingleFamilyResidence.csv)\n",
    "zwillow_sfr_data_path = \"C:/Users/trist/OneDrive/Desktop/Trist'n/School/Syracuse University/Q4 2021/IST718/Labs/Lab 2/Zip_Zhvi_SingleFamilyResidence.csv\"\n",
    "zwillow_sfr_initial_df = pd.read_csv(zwillow_sfr_data_path)"
   ]
  },
  {
   "cell_type": "markdown",
   "id": "3b9d43c9-4b7d-4235-a56a-f667e4805552",
   "metadata": {},
   "source": [
    "## Data Cleaning"
   ]
  },
  {
   "cell_type": "markdown",
   "id": "94c00d27-9643-4739-b648-05de4c0cd23f",
   "metadata": {},
   "source": [
    "For appropriate analysis to be conducted, data transformation and cleaning steps are necessary.\n",
    "\n",
    "In the initial data set, each date was recorded as a column. This structure is inappropriate for data analysis because the table is not in `tidy` format. To convert the table into a `tidy` format, each date column needs to be converted into a row value."
   ]
  },
  {
   "cell_type": "code",
   "execution_count": 4,
   "id": "62861a2b-072f-4ec0-9234-1f61dfb63f4e",
   "metadata": {},
   "outputs": [],
   "source": [
    "# need to convert the data columns from columns to rows\n",
    "zwillow_sfr_df = zwillow_sfr_initial_df.melt(\n",
    "    id_vars=[\n",
    "        'RegionID', 'SizeRank', 'RegionName',\n",
    "        'RegionType', 'StateName', 'State',\n",
    "        'City', 'Metro', 'CountyName'\n",
    "    ],\n",
    "    var_name='Date',\n",
    "    value_name='MedianHousingValue'\n",
    ")"
   ]
  },
  {
   "cell_type": "code",
   "execution_count": 5,
   "id": "836a6181-9ee7-4f4c-9319-454f191e7ccd",
   "metadata": {},
   "outputs": [],
   "source": [
    "# converting the data types such that they are apporpriate for analysis\n",
    "zwillow_sfr_df['RegionID'] = zwillow_sfr_df['RegionID'].astype('string')\n",
    "zwillow_sfr_df['SizeRank'] = zwillow_sfr_df['SizeRank'].astype('category')\n",
    "zwillow_sfr_df['RegionName'] = zwillow_sfr_df['RegionName'].astype('string')\n",
    "zwillow_sfr_df['RegionID'] = zwillow_sfr_df['RegionID'].astype('string')\n",
    "zwillow_sfr_df['Date'] = zwillow_sfr_df['Date'].astype('datetime64[ns]')"
   ]
  },
  {
   "cell_type": "code",
   "execution_count": 6,
   "id": "03ed478f-30b9-4965-a0d0-9420b7a34ff0",
   "metadata": {},
   "outputs": [],
   "source": [
    "# removing the null values\n",
    "zwillow_sfr_df = zwillow_sfr_df.dropna()"
   ]
  },
  {
   "cell_type": "code",
   "execution_count": 7,
   "id": "0259eac6-3de1-469d-b19a-079ab780569d",
   "metadata": {},
   "outputs": [
    {
     "data": {
      "text/html": [
       "<div>\n",
       "<style scoped>\n",
       "    .dataframe tbody tr th:only-of-type {\n",
       "        vertical-align: middle;\n",
       "    }\n",
       "\n",
       "    .dataframe tbody tr th {\n",
       "        vertical-align: top;\n",
       "    }\n",
       "\n",
       "    .dataframe thead th {\n",
       "        text-align: right;\n",
       "    }\n",
       "</style>\n",
       "<table border=\"1\" class=\"dataframe\">\n",
       "  <thead>\n",
       "    <tr style=\"text-align: right;\">\n",
       "      <th></th>\n",
       "      <th>RegionID</th>\n",
       "      <th>SizeRank</th>\n",
       "      <th>RegionName</th>\n",
       "      <th>RegionType</th>\n",
       "      <th>StateName</th>\n",
       "      <th>State</th>\n",
       "      <th>City</th>\n",
       "      <th>Metro</th>\n",
       "      <th>CountyName</th>\n",
       "      <th>Date</th>\n",
       "      <th>MedianHousingValue</th>\n",
       "    </tr>\n",
       "  </thead>\n",
       "  <tbody>\n",
       "    <tr>\n",
       "      <th>1</th>\n",
       "      <td>84654</td>\n",
       "      <td>1</td>\n",
       "      <td>60657</td>\n",
       "      <td>Zip</td>\n",
       "      <td>IL</td>\n",
       "      <td>IL</td>\n",
       "      <td>Chicago</td>\n",
       "      <td>Chicago-Naperville-Elgin</td>\n",
       "      <td>Cook County</td>\n",
       "      <td>1996-01-31</td>\n",
       "      <td>364892.0</td>\n",
       "    </tr>\n",
       "    <tr>\n",
       "      <th>3</th>\n",
       "      <td>91982</td>\n",
       "      <td>3</td>\n",
       "      <td>77494</td>\n",
       "      <td>Zip</td>\n",
       "      <td>TX</td>\n",
       "      <td>TX</td>\n",
       "      <td>Katy</td>\n",
       "      <td>Houston-The Woodlands-Sugar Land</td>\n",
       "      <td>Harris County</td>\n",
       "      <td>1996-01-31</td>\n",
       "      <td>200475.0</td>\n",
       "    </tr>\n",
       "    <tr>\n",
       "      <th>4</th>\n",
       "      <td>84616</td>\n",
       "      <td>4</td>\n",
       "      <td>60614</td>\n",
       "      <td>Zip</td>\n",
       "      <td>IL</td>\n",
       "      <td>IL</td>\n",
       "      <td>Chicago</td>\n",
       "      <td>Chicago-Naperville-Elgin</td>\n",
       "      <td>Cook County</td>\n",
       "      <td>1996-01-31</td>\n",
       "      <td>546663.0</td>\n",
       "    </tr>\n",
       "    <tr>\n",
       "      <th>5</th>\n",
       "      <td>91940</td>\n",
       "      <td>5</td>\n",
       "      <td>77449</td>\n",
       "      <td>Zip</td>\n",
       "      <td>TX</td>\n",
       "      <td>TX</td>\n",
       "      <td>Katy</td>\n",
       "      <td>Houston-The Woodlands-Sugar Land</td>\n",
       "      <td>Harris County</td>\n",
       "      <td>1996-01-31</td>\n",
       "      <td>97521.0</td>\n",
       "    </tr>\n",
       "    <tr>\n",
       "      <th>7</th>\n",
       "      <td>91733</td>\n",
       "      <td>7</td>\n",
       "      <td>77084</td>\n",
       "      <td>Zip</td>\n",
       "      <td>TX</td>\n",
       "      <td>TX</td>\n",
       "      <td>Houston</td>\n",
       "      <td>Houston-The Woodlands-Sugar Land</td>\n",
       "      <td>Harris County</td>\n",
       "      <td>1996-01-31</td>\n",
       "      <td>97381.0</td>\n",
       "    </tr>\n",
       "  </tbody>\n",
       "</table>\n",
       "</div>"
      ],
      "text/plain": [
       "  RegionID SizeRank RegionName RegionType StateName State     City  \\\n",
       "1    84654        1      60657        Zip        IL    IL  Chicago   \n",
       "3    91982        3      77494        Zip        TX    TX     Katy   \n",
       "4    84616        4      60614        Zip        IL    IL  Chicago   \n",
       "5    91940        5      77449        Zip        TX    TX     Katy   \n",
       "7    91733        7      77084        Zip        TX    TX  Houston   \n",
       "\n",
       "                              Metro     CountyName       Date  \\\n",
       "1          Chicago-Naperville-Elgin    Cook County 1996-01-31   \n",
       "3  Houston-The Woodlands-Sugar Land  Harris County 1996-01-31   \n",
       "4          Chicago-Naperville-Elgin    Cook County 1996-01-31   \n",
       "5  Houston-The Woodlands-Sugar Land  Harris County 1996-01-31   \n",
       "7  Houston-The Woodlands-Sugar Land  Harris County 1996-01-31   \n",
       "\n",
       "   MedianHousingValue  \n",
       "1            364892.0  \n",
       "3            200475.0  \n",
       "4            546663.0  \n",
       "5             97521.0  \n",
       "7             97381.0  "
      ]
     },
     "execution_count": 7,
     "metadata": {},
     "output_type": "execute_result"
    }
   ],
   "source": [
    "zwillow_sfr_df.head()"
   ]
  },
  {
   "cell_type": "code",
   "execution_count": 8,
   "id": "ceb80dcc-20e6-4bc5-8654-35ea6b51438e",
   "metadata": {},
   "outputs": [],
   "source": [
    "# cleaned_data_path = \"C:/Users/trist/OneDrive/Desktop/Trist'n/School/Syracuse University/Q4 2021/IST718/Labs/Lab 2/cleaned_zwillow_data.csv\"\n",
    "# zwillow_sfr_df.to_csv(cleaned_data_path)"
   ]
  }
 ],
 "metadata": {
  "kernelspec": {
   "display_name": "Python 3",
   "language": "python",
   "name": "python3"
  },
  "language_info": {
   "codemirror_mode": {
    "name": "ipython",
    "version": 3
   },
   "file_extension": ".py",
   "mimetype": "text/x-python",
   "name": "python",
   "nbconvert_exporter": "python",
   "pygments_lexer": "ipython3",
   "version": "3.8.8"
  }
 },
 "nbformat": 4,
 "nbformat_minor": 5
}
