{
 "cells": [
  {
   "cell_type": "markdown",
   "id": "2dc502bf-c924-41e0-b0f7-5f0c04d47b8a",
   "metadata": {},
   "source": [
    "# Trist'n Joseph - IST 718 - Lab 1"
   ]
  },
  {
   "cell_type": "markdown",
   "id": "9c336042-b7cf-448c-95f4-622eb56588dc",
   "metadata": {},
   "source": [
    "## Introduction"
   ]
  },
  {
   "cell_type": "markdown",
   "id": "3dbd55e8-b28d-47e3-bcee-2c9cd799f364",
   "metadata": {},
   "source": [
    "\"Paying coaches excessive compensation also makes less revenue available for other sports, causes many athletic departments to operate at a net loss, and may call into question the priorities of educational institutions.\"\n",
    "\n",
    "While this is true, coaches should also be recognized for their hard work and should be compensated appropriately. Therefore, the question is, how does one appropriately recommend the optimal compensation for coaches?\n",
    "\n",
    "There are many factors which could influence a coach's salary, and these factors could include (but are not limited to) the average salary within the city that the coach is working in; the number of years the coach has been in the business, along with their success metrics; the performance of the team; the school's budget for atheltics; the revenue that the team generates; and even the school's (or team's) academic performance.\n",
    "\n",
    "Within this assignment, the goal is to ascertain how can one appropriately recommend the best salary for the next football coach. Through data analysis, I examine the relationships between factors which could influence a coach's salary to develop a model that can recommend an appropriate salary for new coaches."
   ]
  },
  {
   "cell_type": "markdown",
   "id": "558778ae-0e4b-4a97-b223-4b50905e1b90",
   "metadata": {},
   "source": [
    "## Packages"
   ]
  },
  {
   "cell_type": "code",
   "execution_count": 1,
   "id": "f6f8d806-f7ce-452d-b735-94286608acfc",
   "metadata": {},
   "outputs": [],
   "source": [
    "import pandas as pd\n",
    "import numpy as np\n",
    "\n",
    "import matplotlib.pyplot as plt\n",
    "%matplotlib inline\n",
    "import seaborn as sns\n",
    "\n",
    "from sklearn.linear_model import LinearRegression\n",
    "import statsmodels.api as sm\n",
    "from scipy.stats import chi2_contingency"
   ]
  },
  {
   "cell_type": "markdown",
   "id": "5abfefe3-7b59-40df-b5c5-6bbeb71d6829",
   "metadata": {},
   "source": [
    "## Data Manipulation"
   ]
  },
  {
   "cell_type": "markdown",
   "id": "e7bf3472-d837-4b87-81f5-2f80d23e3e48",
   "metadata": {},
   "source": [
    "### Data Loading"
   ]
  },
  {
   "cell_type": "code",
   "execution_count": 2,
   "id": "2a9eb141-7775-4ce3-97bd-975ef78ca263",
   "metadata": {},
   "outputs": [],
   "source": [
    "# displaying all rows and columns\n",
    "pd.set_option('max_rows', None)\n",
    "pd.set_option('max_columns', None)"
   ]
  },
  {
   "cell_type": "code",
   "execution_count": 3,
   "id": "42e2de91-c2f3-46a8-b1a8-7e4da76d7be8",
   "metadata": {},
   "outputs": [
    {
     "data": {
      "text/html": [
       "<div>\n",
       "<style scoped>\n",
       "    .dataframe tbody tr th:only-of-type {\n",
       "        vertical-align: middle;\n",
       "    }\n",
       "\n",
       "    .dataframe tbody tr th {\n",
       "        vertical-align: top;\n",
       "    }\n",
       "\n",
       "    .dataframe thead th {\n",
       "        text-align: right;\n",
       "    }\n",
       "</style>\n",
       "<table border=\"1\" class=\"dataframe\">\n",
       "  <thead>\n",
       "    <tr style=\"text-align: right;\">\n",
       "      <th></th>\n",
       "      <th>School</th>\n",
       "      <th>Conference</th>\n",
       "      <th>Coach</th>\n",
       "      <th>SchoolPay</th>\n",
       "      <th>TotalPay</th>\n",
       "      <th>Bonus</th>\n",
       "      <th>BonusPaid</th>\n",
       "      <th>AssistantPay</th>\n",
       "      <th>Buyout</th>\n",
       "    </tr>\n",
       "  </thead>\n",
       "  <tbody>\n",
       "    <tr>\n",
       "      <th>0</th>\n",
       "      <td>Air Force</td>\n",
       "      <td>Mt. West</td>\n",
       "      <td>Troy Calhoun</td>\n",
       "      <td>885000</td>\n",
       "      <td>885000</td>\n",
       "      <td>247000</td>\n",
       "      <td>--</td>\n",
       "      <td>$0</td>\n",
       "      <td>--</td>\n",
       "    </tr>\n",
       "    <tr>\n",
       "      <th>1</th>\n",
       "      <td>Akron</td>\n",
       "      <td>MAC</td>\n",
       "      <td>Terry Bowden</td>\n",
       "      <td>$411,000</td>\n",
       "      <td>$412,500</td>\n",
       "      <td>$225,000</td>\n",
       "      <td>$50,000</td>\n",
       "      <td>$0</td>\n",
       "      <td>$688,500</td>\n",
       "    </tr>\n",
       "    <tr>\n",
       "      <th>2</th>\n",
       "      <td>Alabama</td>\n",
       "      <td>SEC</td>\n",
       "      <td>Nick Saban</td>\n",
       "      <td>$8,307,000</td>\n",
       "      <td>$8,307,000</td>\n",
       "      <td>$1,100,000</td>\n",
       "      <td>$500,000</td>\n",
       "      <td>$0</td>\n",
       "      <td>$33,600,000</td>\n",
       "    </tr>\n",
       "    <tr>\n",
       "      <th>3</th>\n",
       "      <td>Alabama at Birmingham</td>\n",
       "      <td>C-USA</td>\n",
       "      <td>Bill Clark</td>\n",
       "      <td>$900,000</td>\n",
       "      <td>$900,000</td>\n",
       "      <td>$950,000</td>\n",
       "      <td>$165,471</td>\n",
       "      <td>$0</td>\n",
       "      <td>$3,847,500</td>\n",
       "    </tr>\n",
       "    <tr>\n",
       "      <th>4</th>\n",
       "      <td>Appalachian State</td>\n",
       "      <td>Sun Belt</td>\n",
       "      <td>Scott Satterfield</td>\n",
       "      <td>$712,500</td>\n",
       "      <td>$712,500</td>\n",
       "      <td>$295,000</td>\n",
       "      <td>$145,000</td>\n",
       "      <td>$0</td>\n",
       "      <td>$2,160,417</td>\n",
       "    </tr>\n",
       "    <tr>\n",
       "      <th>5</th>\n",
       "      <td>Arizona</td>\n",
       "      <td>Pac-12</td>\n",
       "      <td>Kevin Sumlin</td>\n",
       "      <td>$1,600,000</td>\n",
       "      <td>$2,000,000</td>\n",
       "      <td>$2,025,000</td>\n",
       "      <td>--</td>\n",
       "      <td>$0</td>\n",
       "      <td>$10,000,000</td>\n",
       "    </tr>\n",
       "    <tr>\n",
       "      <th>6</th>\n",
       "      <td>Arizona State</td>\n",
       "      <td>Pac-12</td>\n",
       "      <td>Herm Edwards</td>\n",
       "      <td>$2,000,000</td>\n",
       "      <td>$2,000,000</td>\n",
       "      <td>$3,010,000</td>\n",
       "      <td>--</td>\n",
       "      <td>$0</td>\n",
       "      <td>$8,166,667</td>\n",
       "    </tr>\n",
       "    <tr>\n",
       "      <th>7</th>\n",
       "      <td>Arkansas</td>\n",
       "      <td>SEC</td>\n",
       "      <td>Chad Morris</td>\n",
       "      <td>$3,500,000</td>\n",
       "      <td>$3,500,000</td>\n",
       "      <td>$1,000,000</td>\n",
       "      <td>--</td>\n",
       "      <td>$0</td>\n",
       "      <td>$12,500,000</td>\n",
       "    </tr>\n",
       "    <tr>\n",
       "      <th>8</th>\n",
       "      <td>Arkansas State</td>\n",
       "      <td>Sun Belt</td>\n",
       "      <td>Blake Anderson</td>\n",
       "      <td>$825,000</td>\n",
       "      <td>$825,000</td>\n",
       "      <td>$185,000</td>\n",
       "      <td>$25,000</td>\n",
       "      <td>$0</td>\n",
       "      <td>$300,000</td>\n",
       "    </tr>\n",
       "    <tr>\n",
       "      <th>9</th>\n",
       "      <td>Army</td>\n",
       "      <td>Ind.</td>\n",
       "      <td>Jeff Monken</td>\n",
       "      <td>932521</td>\n",
       "      <td>932521</td>\n",
       "      <td>--</td>\n",
       "      <td>--</td>\n",
       "      <td>$0</td>\n",
       "      <td>--</td>\n",
       "    </tr>\n",
       "  </tbody>\n",
       "</table>\n",
       "</div>"
      ],
      "text/plain": [
       "                  School Conference              Coach    SchoolPay  \\\n",
       "0              Air Force   Mt. West       Troy Calhoun       885000   \n",
       "1                  Akron        MAC       Terry Bowden    $411,000    \n",
       "2                Alabama        SEC         Nick Saban  $8,307,000    \n",
       "3  Alabama at Birmingham      C-USA         Bill Clark    $900,000    \n",
       "4      Appalachian State   Sun Belt  Scott Satterfield    $712,500    \n",
       "5                Arizona     Pac-12       Kevin Sumlin  $1,600,000    \n",
       "6          Arizona State     Pac-12       Herm Edwards  $2,000,000    \n",
       "7               Arkansas        SEC        Chad Morris  $3,500,000    \n",
       "8         Arkansas State   Sun Belt     Blake Anderson    $825,000    \n",
       "9                   Army       Ind.        Jeff Monken       932521   \n",
       "\n",
       "      TotalPay        Bonus  BonusPaid AssistantPay        Buyout  \n",
       "0       885000       247000         --          $0             --  \n",
       "1    $412,500     $225,000    $50,000           $0      $688,500   \n",
       "2  $8,307,000   $1,100,000   $500,000           $0   $33,600,000   \n",
       "3    $900,000     $950,000   $165,471           $0    $3,847,500   \n",
       "4    $712,500     $295,000   $145,000           $0    $2,160,417   \n",
       "5  $2,000,000   $2,025,000          --          $0   $10,000,000   \n",
       "6  $2,000,000   $3,010,000          --          $0    $8,166,667   \n",
       "7  $3,500,000   $1,000,000          --          $0   $12,500,000   \n",
       "8    $825,000     $185,000    $25,000           $0      $300,000   \n",
       "9       932521           --         --          $0             --  "
      ]
     },
     "execution_count": 3,
     "metadata": {},
     "output_type": "execute_result"
    }
   ],
   "source": [
    "# loading and displaying a sample of the data\n",
    "data_path = \"C:/Users/trist/OneDrive/Desktop/Trist'n/School/Syracuse University/Q4 2021/IST718/Labs/Lab 1/coachesdata.csv\"\n",
    "coaches_initial_df = pd.read_csv(data_path)\n",
    "coaches_initial_df.head(10)"
   ]
  },
  {
   "cell_type": "markdown",
   "id": "1c9b33bf-696b-49ee-b896-706b6f65ece6",
   "metadata": {},
   "source": [
    "### Data Cleaning"
   ]
  },
  {
   "cell_type": "markdown",
   "id": "ce2b6dcf-0960-43fd-93bd-d134a5cf3679",
   "metadata": {},
   "source": [
    "In order for appropriate analysis to be conducted, data cleaning and transformation steps are necessary. These include removing string characters from columns that are numeric in nature, and exploring the data set for missing or inappropriate values."
   ]
  },
  {
   "cell_type": "code",
   "execution_count": 4,
   "id": "03b74213-f643-45de-8c83-9fbdc79dbcb4",
   "metadata": {},
   "outputs": [],
   "source": [
    "# the '$' needs to be removed from columns\n",
    "coaches_df = coaches_initial_df\n",
    "coaches_df['SchoolPay'] = coaches_df['SchoolPay'].map(lambda x: x.replace('$', '').replace(',', ''))\n",
    "coaches_df['TotalPay'] = coaches_df['TotalPay'].map(lambda x: x.replace('$', '').replace(',', ''))\n",
    "coaches_df['Bonus'] = coaches_df['Bonus'].map(lambda x: x.replace('$', '').replace(',', ''))\n",
    "coaches_df['BonusPaid'] = coaches_df['BonusPaid'].map(lambda x: x.replace('$', '').replace(',', ''))\n",
    "coaches_df['AssistantPay'] = coaches_df['AssistantPay'].map(lambda x: x.replace('$', '').replace(',', ''))\n",
    "coaches_df['Buyout'] = coaches_df['Buyout'].map(lambda x: x.replace('$', '').replace(',', ''))"
   ]
  },
  {
   "cell_type": "code",
   "execution_count": 5,
   "id": "70fd440d-5345-42ed-ba3c-d270cb4b58b2",
   "metadata": {},
   "outputs": [],
   "source": [
    "# rows where the value is '--' should be removed since I am unable to acertain what the value should be (ie, these should be interpreted as null values)\n",
    "coaches_df = coaches_df[coaches_df.SchoolPay != '--']\n",
    "coaches_df = coaches_df[coaches_df.TotalPay != '--']\n",
    "coaches_df = coaches_df[coaches_df.Bonus != '--']\n",
    "coaches_df = coaches_df[coaches_df.BonusPaid != '--']\n",
    "coaches_df = coaches_df[coaches_df.AssistantPay != '--']\n",
    "coaches_df = coaches_df[coaches_df.Buyout != '--']"
   ]
  },
  {
   "cell_type": "markdown",
   "id": "c3d98270-469a-4212-aa6c-7935dc58ce25",
   "metadata": {},
   "source": [
    "I chose to drop these rows because I am unable to determine what these values should be. For example, within the `BonusPaid` column, it cannot be determined that observations containing `--` should be converted to `0` since `0` is a value within that column. Therefore, a value of `0` indicates that 0 was contributed towards `BonusPaid`. Because of this, it would be inappropriate to assume that `--` also indicates 0 was contributed towards `BonusPaid`. Because of this ambiguity, it would be more appripriate to drop the unknown values."
   ]
  },
  {
   "cell_type": "code",
   "execution_count": 6,
   "id": "5ff4c0b3-83df-45db-94c8-e352bd182515",
   "metadata": {},
   "outputs": [],
   "source": [
    "# now, the values in the payment columns should be converted from strings to numerics\n",
    "coaches_df['SchoolPay'] = coaches_df['SchoolPay'].astype(int)\n",
    "coaches_df['TotalPay'] = coaches_df['TotalPay'].astype(int)\n",
    "coaches_df['Bonus'] = coaches_df['Bonus'].astype(int)\n",
    "coaches_df['BonusPaid'] = coaches_df['BonusPaid'].astype(int)\n",
    "coaches_df['AssistantPay'] = coaches_df['AssistantPay'].astype(int)\n",
    "coaches_df['Buyout'] = coaches_df['Buyout'].astype(int)"
   ]
  },
  {
   "cell_type": "code",
   "execution_count": 7,
   "id": "c272f35e-dd44-4d3a-a1f9-f5b2fc550b1c",
   "metadata": {},
   "outputs": [],
   "source": [
    "# converting the Conference from a string to a category\n",
    "coaches_df['Conference'] = coaches_df['Conference'].astype('category')"
   ]
  },
  {
   "cell_type": "code",
   "execution_count": 8,
   "id": "79824a63-5e57-41eb-8d7b-3fe27322b9ee",
   "metadata": {},
   "outputs": [
    {
     "data": {
      "text/html": [
       "<div>\n",
       "<style scoped>\n",
       "    .dataframe tbody tr th:only-of-type {\n",
       "        vertical-align: middle;\n",
       "    }\n",
       "\n",
       "    .dataframe tbody tr th {\n",
       "        vertical-align: top;\n",
       "    }\n",
       "\n",
       "    .dataframe thead th {\n",
       "        text-align: right;\n",
       "    }\n",
       "</style>\n",
       "<table border=\"1\" class=\"dataframe\">\n",
       "  <thead>\n",
       "    <tr style=\"text-align: right;\">\n",
       "      <th></th>\n",
       "      <th>School</th>\n",
       "      <th>Conference</th>\n",
       "      <th>Coach</th>\n",
       "      <th>SchoolPay</th>\n",
       "      <th>TotalPay</th>\n",
       "      <th>Bonus</th>\n",
       "      <th>BonusPaid</th>\n",
       "      <th>AssistantPay</th>\n",
       "      <th>Buyout</th>\n",
       "    </tr>\n",
       "  </thead>\n",
       "  <tbody>\n",
       "    <tr>\n",
       "      <th>1</th>\n",
       "      <td>Akron</td>\n",
       "      <td>MAC</td>\n",
       "      <td>Terry Bowden</td>\n",
       "      <td>411000</td>\n",
       "      <td>412500</td>\n",
       "      <td>225000</td>\n",
       "      <td>50000</td>\n",
       "      <td>0</td>\n",
       "      <td>688500</td>\n",
       "    </tr>\n",
       "    <tr>\n",
       "      <th>2</th>\n",
       "      <td>Alabama</td>\n",
       "      <td>SEC</td>\n",
       "      <td>Nick Saban</td>\n",
       "      <td>8307000</td>\n",
       "      <td>8307000</td>\n",
       "      <td>1100000</td>\n",
       "      <td>500000</td>\n",
       "      <td>0</td>\n",
       "      <td>33600000</td>\n",
       "    </tr>\n",
       "    <tr>\n",
       "      <th>3</th>\n",
       "      <td>Alabama at Birmingham</td>\n",
       "      <td>C-USA</td>\n",
       "      <td>Bill Clark</td>\n",
       "      <td>900000</td>\n",
       "      <td>900000</td>\n",
       "      <td>950000</td>\n",
       "      <td>165471</td>\n",
       "      <td>0</td>\n",
       "      <td>3847500</td>\n",
       "    </tr>\n",
       "    <tr>\n",
       "      <th>4</th>\n",
       "      <td>Appalachian State</td>\n",
       "      <td>Sun Belt</td>\n",
       "      <td>Scott Satterfield</td>\n",
       "      <td>712500</td>\n",
       "      <td>712500</td>\n",
       "      <td>295000</td>\n",
       "      <td>145000</td>\n",
       "      <td>0</td>\n",
       "      <td>2160417</td>\n",
       "    </tr>\n",
       "    <tr>\n",
       "      <th>8</th>\n",
       "      <td>Arkansas State</td>\n",
       "      <td>Sun Belt</td>\n",
       "      <td>Blake Anderson</td>\n",
       "      <td>825000</td>\n",
       "      <td>825000</td>\n",
       "      <td>185000</td>\n",
       "      <td>25000</td>\n",
       "      <td>0</td>\n",
       "      <td>300000</td>\n",
       "    </tr>\n",
       "  </tbody>\n",
       "</table>\n",
       "</div>"
      ],
      "text/plain": [
       "                  School Conference              Coach  SchoolPay  TotalPay  \\\n",
       "1                  Akron        MAC       Terry Bowden     411000    412500   \n",
       "2                Alabama        SEC         Nick Saban    8307000   8307000   \n",
       "3  Alabama at Birmingham      C-USA         Bill Clark     900000    900000   \n",
       "4      Appalachian State   Sun Belt  Scott Satterfield     712500    712500   \n",
       "8         Arkansas State   Sun Belt     Blake Anderson     825000    825000   \n",
       "\n",
       "     Bonus  BonusPaid  AssistantPay    Buyout  \n",
       "1   225000      50000             0    688500  \n",
       "2  1100000     500000             0  33600000  \n",
       "3   950000     165471             0   3847500  \n",
       "4   295000     145000             0   2160417  \n",
       "8   185000      25000             0    300000  "
      ]
     },
     "execution_count": 8,
     "metadata": {},
     "output_type": "execute_result"
    }
   ],
   "source": [
    "# displaying the cleaned data set\n",
    "coaches_df.head(5)"
   ]
  },
  {
   "cell_type": "markdown",
   "id": "b41460dc-eb6b-4983-82dc-a541703389b8",
   "metadata": {},
   "source": [
    "### Data Transformation"
   ]
  },
  {
   "cell_type": "markdown",
   "id": "11de3e14-27bb-4126-9e97-b729b9c0109d",
   "metadata": {},
   "source": [
    "In addition to understanding data regarding a coach's salary, supplemantary data could also be used to understand the various influences on salary.\n",
    "\n",
    "Within this section, I gather and combine data regarding a team's stadium capacity, the school's graduation rate, and the team's most recent win-rate."
   ]
  },
  {
   "cell_type": "markdown",
   "id": "5092bdce-06f0-4748-a0dc-0c72e828006d",
   "metadata": {},
   "source": [
    "My hypothesis for the stadium capacity is that as a capacity increases, a team is able to generate more revenue per game since they can sell to more patrons. If the revenue increases, then it possible that the team has more available funds to compensate coaches."
   ]
  },
  {
   "cell_type": "code",
   "execution_count": 9,
   "id": "08e03c6c-81b6-4094-b4a2-57848f32c329",
   "metadata": {},
   "outputs": [],
   "source": [
    "# getting additional data\n",
    "# -- retreving the stadium sizes\n",
    "# --- most of the capacities were gathered from http://www.collegegridirons.com/comparisonscap.htm\n",
    "stadium_capacity = [\n",
    "    30000, 101821, 45000, 30000, 30964, 87451, 22500, 14500,\n",
    "    23724, 25013, 56030, 30255, 74867, 26000, 81500, 21000,\n",
    "    50183, 41000, 40000, 50000, 30200, 29571, 23500, 40727,\n",
    "    92746, 71228, 4157, 30518, 40000, 60670, 52959, 70585,\n",
    "    61000, 50071, 50000, 61000, 30600, 30427, 55000, 100500,\n",
    "    38019, 54000, 44500, 62380, 24286, 107601, 75005, 31000,\n",
    "    50805, 71004, 29993, 65000, 39224, 30343, 62980, 56919,\n",
    "    30850, 24000, 24000, 102329, 84000, 60218, 20118, 106572,\n",
    "    62500, 52454, 70561, 30456, 80250, 65857, 36000, 100119,\n",
    "    30000, 60862, 72000, 26248, 30000, 45017, 25513, 61500,\n",
    "    66233, 70138, 35117, 60000, 22113, 30200, 29181\n",
    "]\n",
    "\n",
    "analysis_df = coaches_df\n",
    "analysis_df['stadium_capacity'] = stadium_capacity"
   ]
  },
  {
   "cell_type": "markdown",
   "id": "128cc81c-3da5-4eb0-9920-86a8a69d3584",
   "metadata": {},
   "source": [
    "My hypothesis for the graduation rate is that as the graduation rate increases, players on the team are more likely to have a good combination of athletics and academics, making them more favorable in the long run. As a team becomes more favorable, coaches might also become more favorable and could be compensated more due to the increased interest/higher demand."
   ]
  },
  {
   "cell_type": "code",
   "execution_count": 10,
   "id": "a3e5136d-ce57-4527-b754-ecbd01d1ec21",
   "metadata": {},
   "outputs": [],
   "source": [
    "# -- graduation rates\n",
    "# --- data collected from https://web3.ncaa.org/aprsearch/gsrsearch\n",
    "gsr = [\n",
    "    88, 93, 89, 85, 82, 91, 90, 90,\n",
    "    89, 89, 87, 61, 64, 35, 93, 88,\n",
    "    93, 85, 92, 86, 46, 84, 84, 57,\n",
    "    87, 81, 89, 85, 81, 91, 85, 89,\n",
    "    92, 85, 92, 92, 78, 89, 91, 89,\n",
    "    89, 86, 87, 93, 95, 94, 92, 93,\n",
    "    94, 89, 85, 79, 79, 84, 81, 89,\n",
    "    86, 87, 90, 88, 86, 82, 81, 92,\n",
    "    88, 90, 86, 84, 95, 84, 84, 77,\n",
    "    82, 80, 83, 92, 85, 94, 93, 95,\n",
    "    91, 91, 87, 84, 82, 83, 91    \n",
    "]\n",
    "\n",
    "fgr = [\n",
    "    65, 71, 64, 64, 60, 66, 72, 72,\n",
    "    74, 68, 78, 95, 90, 65, 65, 57,\n",
    "    66, 71, 72, 70, 93, 56, 58, 86,\n",
    "    68, 62, 72, 62, 59, 74, 62, 71,\n",
    "    72, 64, 72, 65, 57, 54, 69, 54,\n",
    "    65, 67, 67, 61, 80, 81, 79, 61,\n",
    "    82, 64, 61, 62, 54, 59, 55, 65,\n",
    "    63, 64, 78, 74, 61, 60, 58, 78,\n",
    "    74, 74, 70, 59, 70, 63, 55, 57,\n",
    "    56, 54, 62, 75, 65, 71, 69, 78,\n",
    "    67, 73, 66, 59, 58, 61, 67    \n",
    "]\n",
    "\n",
    "analysis_df['gsr'] = gsr\n",
    "analysis_df['fgr'] = fgr"
   ]
  },
  {
   "cell_type": "markdown",
   "id": "594665c7-f7e8-437c-8ed2-5e10f86a3f3a",
   "metadata": {},
   "source": [
    "My hypothesis for the win rate is that as the team's win rate increases, the coach would become more favorable due to the team's dominance throought the season. Therefore, an increase in win rate should be associated with an increase in salary."
   ]
  },
  {
   "cell_type": "code",
   "execution_count": 11,
   "id": "4e34c37d-2c2e-4b05-aee6-03be7a5e3318",
   "metadata": {},
   "outputs": [],
   "source": [
    "# -- win rates\n",
    "# --- data collected from https://www.teamrankings.com/ncf/trends/win_trends\n",
    "win_rate = [\n",
    "    33.3, 83.3, 60.0, 80.0, 16.7, 66.7, 50.0, 50.0,\n",
    "    33.3, 33.3, 20.0, 50.0, 66.7, 100.0, 60.0, 100.0,\n",
    "    20.0, 40.0, 0.0, 50.0, 66.7, 50.0, 16.7, 66.7,\n",
    "    100.0, 33.3, 50.0, 50.0, 83.3, 28.6, 40.0, 100.0,\n",
    "    60.0, 20.0, 60.0, 100.0, 40.0, 40.0, 50.0, 50.0,\n",
    "    50.0, 66.7, 16.7, 50.0, 33.3, 100.0, 100.0, 33.3,\n",
    "    60.0, 50.0, 80.0, 0.0, 33.3, 14.3, 50.0, 80.0,\n",
    "    20.0, 66.7, 16.7, 83.3, 100.0, 100.0, 16.7, 83.3,\n",
    "    60.0, 50.0, 100.0, 50.0, 50.0, 20.0, 16.7, 66.7,\n",
    "    40.0, 66.7, 66.7, 50.0, 50.0, 60.0, 60.0, 66.7,\n",
    "    60.0, 40.0, 50.0, 33.3, 20.0, 66.7, 80.0    \n",
    "]\n",
    "\n",
    "analysis_df['win_rate'] = win_rate"
   ]
  },
  {
   "cell_type": "code",
   "execution_count": 12,
   "id": "678246d2-5280-4b08-af27-191280662986",
   "metadata": {},
   "outputs": [
    {
     "data": {
      "text/html": [
       "<div>\n",
       "<style scoped>\n",
       "    .dataframe tbody tr th:only-of-type {\n",
       "        vertical-align: middle;\n",
       "    }\n",
       "\n",
       "    .dataframe tbody tr th {\n",
       "        vertical-align: top;\n",
       "    }\n",
       "\n",
       "    .dataframe thead th {\n",
       "        text-align: right;\n",
       "    }\n",
       "</style>\n",
       "<table border=\"1\" class=\"dataframe\">\n",
       "  <thead>\n",
       "    <tr style=\"text-align: right;\">\n",
       "      <th></th>\n",
       "      <th>School</th>\n",
       "      <th>Conference</th>\n",
       "      <th>Coach</th>\n",
       "      <th>SchoolPay</th>\n",
       "      <th>TotalPay</th>\n",
       "      <th>Bonus</th>\n",
       "      <th>BonusPaid</th>\n",
       "      <th>AssistantPay</th>\n",
       "      <th>Buyout</th>\n",
       "      <th>stadium_capacity</th>\n",
       "      <th>gsr</th>\n",
       "      <th>fgr</th>\n",
       "      <th>win_rate</th>\n",
       "    </tr>\n",
       "  </thead>\n",
       "  <tbody>\n",
       "    <tr>\n",
       "      <th>1</th>\n",
       "      <td>Akron</td>\n",
       "      <td>MAC</td>\n",
       "      <td>Terry Bowden</td>\n",
       "      <td>411000</td>\n",
       "      <td>412500</td>\n",
       "      <td>225000</td>\n",
       "      <td>50000</td>\n",
       "      <td>0</td>\n",
       "      <td>688500</td>\n",
       "      <td>30000</td>\n",
       "      <td>88</td>\n",
       "      <td>65</td>\n",
       "      <td>33.3</td>\n",
       "    </tr>\n",
       "    <tr>\n",
       "      <th>2</th>\n",
       "      <td>Alabama</td>\n",
       "      <td>SEC</td>\n",
       "      <td>Nick Saban</td>\n",
       "      <td>8307000</td>\n",
       "      <td>8307000</td>\n",
       "      <td>1100000</td>\n",
       "      <td>500000</td>\n",
       "      <td>0</td>\n",
       "      <td>33600000</td>\n",
       "      <td>101821</td>\n",
       "      <td>93</td>\n",
       "      <td>71</td>\n",
       "      <td>83.3</td>\n",
       "    </tr>\n",
       "    <tr>\n",
       "      <th>3</th>\n",
       "      <td>Alabama at Birmingham</td>\n",
       "      <td>C-USA</td>\n",
       "      <td>Bill Clark</td>\n",
       "      <td>900000</td>\n",
       "      <td>900000</td>\n",
       "      <td>950000</td>\n",
       "      <td>165471</td>\n",
       "      <td>0</td>\n",
       "      <td>3847500</td>\n",
       "      <td>45000</td>\n",
       "      <td>89</td>\n",
       "      <td>64</td>\n",
       "      <td>60.0</td>\n",
       "    </tr>\n",
       "    <tr>\n",
       "      <th>4</th>\n",
       "      <td>Appalachian State</td>\n",
       "      <td>Sun Belt</td>\n",
       "      <td>Scott Satterfield</td>\n",
       "      <td>712500</td>\n",
       "      <td>712500</td>\n",
       "      <td>295000</td>\n",
       "      <td>145000</td>\n",
       "      <td>0</td>\n",
       "      <td>2160417</td>\n",
       "      <td>30000</td>\n",
       "      <td>85</td>\n",
       "      <td>64</td>\n",
       "      <td>80.0</td>\n",
       "    </tr>\n",
       "    <tr>\n",
       "      <th>8</th>\n",
       "      <td>Arkansas State</td>\n",
       "      <td>Sun Belt</td>\n",
       "      <td>Blake Anderson</td>\n",
       "      <td>825000</td>\n",
       "      <td>825000</td>\n",
       "      <td>185000</td>\n",
       "      <td>25000</td>\n",
       "      <td>0</td>\n",
       "      <td>300000</td>\n",
       "      <td>30964</td>\n",
       "      <td>82</td>\n",
       "      <td>60</td>\n",
       "      <td>16.7</td>\n",
       "    </tr>\n",
       "  </tbody>\n",
       "</table>\n",
       "</div>"
      ],
      "text/plain": [
       "                  School Conference              Coach  SchoolPay  TotalPay  \\\n",
       "1                  Akron        MAC       Terry Bowden     411000    412500   \n",
       "2                Alabama        SEC         Nick Saban    8307000   8307000   \n",
       "3  Alabama at Birmingham      C-USA         Bill Clark     900000    900000   \n",
       "4      Appalachian State   Sun Belt  Scott Satterfield     712500    712500   \n",
       "8         Arkansas State   Sun Belt     Blake Anderson     825000    825000   \n",
       "\n",
       "     Bonus  BonusPaid  AssistantPay    Buyout  stadium_capacity  gsr  fgr  \\\n",
       "1   225000      50000             0    688500             30000   88   65   \n",
       "2  1100000     500000             0  33600000            101821   93   71   \n",
       "3   950000     165471             0   3847500             45000   89   64   \n",
       "4   295000     145000             0   2160417             30000   85   64   \n",
       "8   185000      25000             0    300000             30964   82   60   \n",
       "\n",
       "   win_rate  \n",
       "1      33.3  \n",
       "2      83.3  \n",
       "3      60.0  \n",
       "4      80.0  \n",
       "8      16.7  "
      ]
     },
     "execution_count": 12,
     "metadata": {},
     "output_type": "execute_result"
    }
   ],
   "source": [
    "# displaying the combined data set\n",
    "analysis_df.head(5)"
   ]
  },
  {
   "cell_type": "markdown",
   "id": "3995c314-197a-4668-a8d1-a6e5972c5a01",
   "metadata": {},
   "source": [
    "## Data Analysis"
   ]
  },
  {
   "cell_type": "markdown",
   "id": "eeada7b3-fa34-462d-8ee0-9813e50f08c8",
   "metadata": {},
   "source": [
    "### Main Analysis Question: `How can we recommend the best salary for the next head football coach?`"
   ]
  },
  {
   "cell_type": "markdown",
   "id": "d1997aa9-8bbf-4963-a9bb-2a65644bb2c8",
   "metadata": {},
   "source": [
    "#### What is the total payment?"
   ]
  },
  {
   "cell_type": "code",
   "execution_count": 13,
   "id": "6a38bc77-566f-48df-8ed2-1f214325e2d8",
   "metadata": {},
   "outputs": [
    {
     "name": "stdout",
     "output_type": "stream",
     "text": [
      "The total payment across all schools (all conferences) is ~$200,447,095.00, and the average payment is ~$2,303,989.60\n"
     ]
    }
   ],
   "source": [
    "total_payment = analysis_df['TotalPay'].sum()\n",
    "average_payment = analysis_df['TotalPay'].mean()\n",
    "payment_statement = 'The total payment across all schools (all conferences) is ~${:,.2f}, '.format(total_payment) + 'and the average payment is ~${:,.2f}'.format(average_payment)\n",
    "print(payment_statement)"
   ]
  },
  {
   "cell_type": "markdown",
   "id": "27c61cad-6caa-47ee-9075-d3d6478b1d2b",
   "metadata": {},
   "source": [
    "Most likely, however, the payment is not distrubuted equally nor normally. It is more likely that the distribution is skewed towards more coaches having a lower compensation."
   ]
  },
  {
   "cell_type": "markdown",
   "id": "69d0517e-74c9-483a-89ad-62d926769d12",
   "metadata": {},
   "source": [
    "#### What is the distribution of `TotalPay`?"
   ]
  },
  {
   "cell_type": "code",
   "execution_count": 14,
   "id": "38c9901b-60f9-44b1-a750-b10e5f3d8447",
   "metadata": {},
   "outputs": [
    {
     "data": {
      "image/png": "[encoded data removed]",
      "text/plain": [
       "<Figure size 1440x360 with 1 Axes>"
      ]
     },
     "metadata": {
      "needs_background": "light"
     },
     "output_type": "display_data"
    }
   ],
   "source": [
    "fig = plt.figure(figsize = (20, 5))\n",
    "plt.hist(analysis_df['TotalPay'])\n",
    "plt.ylabel('Frequency')\n",
    "plt.xlabel('Total Payment ($ Millions)')\n",
    "plt.title('Distribution of Total Payment')\n",
    "plt.show()"
   ]
  },
  {
   "cell_type": "markdown",
   "id": "3dcf216f-b936-40f0-9cfa-756195b9a96a",
   "metadata": {},
   "source": [
    "As can be seen, there is neither an equal nor normal distribution to `TotalPay`. The histogram shows that there is a significantly large number of individuals receiving a low total payment."
   ]
  },
  {
   "cell_type": "markdown",
   "id": "beb2ba98-d2c2-4fea-9637-5263d82cf509",
   "metadata": {},
   "source": [
    "It is possible that the payments are significantly different between `Conference`, but in terms of the average compensation and the spread of the compensation."
   ]
  },
  {
   "cell_type": "markdown",
   "id": "cec57489-787d-481a-8918-2f92077a51bc",
   "metadata": {},
   "source": [
    "#### What are the payments like by `Conference`?"
   ]
  },
  {
   "cell_type": "code",
   "execution_count": 15,
   "id": "679bc2ef-df2d-494e-9fc7-58e666b1661f",
   "metadata": {},
   "outputs": [
    {
     "data": {
      "text/html": [
       "<div>\n",
       "<style scoped>\n",
       "    .dataframe tbody tr th:only-of-type {\n",
       "        vertical-align: middle;\n",
       "    }\n",
       "\n",
       "    .dataframe tbody tr th {\n",
       "        vertical-align: top;\n",
       "    }\n",
       "\n",
       "    .dataframe thead th {\n",
       "        text-align: right;\n",
       "    }\n",
       "</style>\n",
       "<table border=\"1\" class=\"dataframe\">\n",
       "  <thead>\n",
       "    <tr style=\"text-align: right;\">\n",
       "      <th></th>\n",
       "      <th>average_TotalPay</th>\n",
       "      <th>standardDev_TotalPay</th>\n",
       "      <th>average_Bonus</th>\n",
       "      <th>average_BonusPaid</th>\n",
       "      <th>average_Buyout</th>\n",
       "    </tr>\n",
       "    <tr>\n",
       "      <th>Conference</th>\n",
       "      <th></th>\n",
       "      <th></th>\n",
       "      <th></th>\n",
       "      <th></th>\n",
       "      <th></th>\n",
       "    </tr>\n",
       "  </thead>\n",
       "  <tbody>\n",
       "    <tr>\n",
       "      <th>SEC</th>\n",
       "      <td>5.097122e+06</td>\n",
       "      <td>2.130591e+06</td>\n",
       "      <td>1.535714e+06</td>\n",
       "      <td>442857.142857</td>\n",
       "      <td>1.930577e+07</td>\n",
       "    </tr>\n",
       "    <tr>\n",
       "      <th>Big Ten</th>\n",
       "      <td>4.353311e+06</td>\n",
       "      <td>1.911881e+06</td>\n",
       "      <td>1.167424e+06</td>\n",
       "      <td>164090.909091</td>\n",
       "      <td>1.489384e+07</td>\n",
       "    </tr>\n",
       "    <tr>\n",
       "      <th>Big 12</th>\n",
       "      <td>3.915323e+06</td>\n",
       "      <td>1.186319e+06</td>\n",
       "      <td>1.019375e+06</td>\n",
       "      <td>141562.500000</td>\n",
       "      <td>1.114661e+07</td>\n",
       "    </tr>\n",
       "    <tr>\n",
       "      <th>ACC</th>\n",
       "      <td>3.815543e+06</td>\n",
       "      <td>1.313236e+06</td>\n",
       "      <td>1.253988e+06</td>\n",
       "      <td>295702.428571</td>\n",
       "      <td>1.494152e+07</td>\n",
       "    </tr>\n",
       "    <tr>\n",
       "      <th>Pac-12</th>\n",
       "      <td>3.208783e+06</td>\n",
       "      <td>1.097170e+06</td>\n",
       "      <td>1.152000e+06</td>\n",
       "      <td>205233.400000</td>\n",
       "      <td>1.160545e+07</td>\n",
       "    </tr>\n",
       "    <tr>\n",
       "      <th>AAC</th>\n",
       "      <td>1.592083e+06</td>\n",
       "      <td>6.386909e+05</td>\n",
       "      <td>7.495833e+05</td>\n",
       "      <td>67333.333333</td>\n",
       "      <td>3.178301e+06</td>\n",
       "    </tr>\n",
       "    <tr>\n",
       "      <th>Mt. West</th>\n",
       "      <td>1.016932e+06</td>\n",
       "      <td>4.929589e+05</td>\n",
       "      <td>7.600000e+05</td>\n",
       "      <td>166454.545455</td>\n",
       "      <td>3.340035e+06</td>\n",
       "    </tr>\n",
       "    <tr>\n",
       "      <th>C-USA</th>\n",
       "      <td>8.517576e+05</td>\n",
       "      <td>2.472935e+05</td>\n",
       "      <td>4.980031e+05</td>\n",
       "      <td>43592.750000</td>\n",
       "      <td>2.792014e+06</td>\n",
       "    </tr>\n",
       "    <tr>\n",
       "      <th>Sun Belt</th>\n",
       "      <td>6.295000e+05</td>\n",
       "      <td>1.809008e+05</td>\n",
       "      <td>3.015476e+05</td>\n",
       "      <td>50714.285714</td>\n",
       "      <td>1.191101e+06</td>\n",
       "    </tr>\n",
       "    <tr>\n",
       "      <th>MAC</th>\n",
       "      <td>5.926849e+05</td>\n",
       "      <td>2.131545e+05</td>\n",
       "      <td>3.721312e+05</td>\n",
       "      <td>52858.272727</td>\n",
       "      <td>1.172810e+06</td>\n",
       "    </tr>\n",
       "    <tr>\n",
       "      <th>Ind.</th>\n",
       "      <td>4.598200e+05</td>\n",
       "      <td>5.682310e+04</td>\n",
       "      <td>2.625000e+05</td>\n",
       "      <td>20000.000000</td>\n",
       "      <td>9.163950e+05</td>\n",
       "    </tr>\n",
       "  </tbody>\n",
       "</table>\n",
       "</div>"
      ],
      "text/plain": [
       "            average_TotalPay  standardDev_TotalPay  average_Bonus  \\\n",
       "Conference                                                          \n",
       "SEC             5.097122e+06          2.130591e+06   1.535714e+06   \n",
       "Big Ten         4.353311e+06          1.911881e+06   1.167424e+06   \n",
       "Big 12          3.915323e+06          1.186319e+06   1.019375e+06   \n",
       "ACC             3.815543e+06          1.313236e+06   1.253988e+06   \n",
       "Pac-12          3.208783e+06          1.097170e+06   1.152000e+06   \n",
       "AAC             1.592083e+06          6.386909e+05   7.495833e+05   \n",
       "Mt. West        1.016932e+06          4.929589e+05   7.600000e+05   \n",
       "C-USA           8.517576e+05          2.472935e+05   4.980031e+05   \n",
       "Sun Belt        6.295000e+05          1.809008e+05   3.015476e+05   \n",
       "MAC             5.926849e+05          2.131545e+05   3.721312e+05   \n",
       "Ind.            4.598200e+05          5.682310e+04   2.625000e+05   \n",
       "\n",
       "            average_BonusPaid  average_Buyout  \n",
       "Conference                                     \n",
       "SEC             442857.142857    1.930577e+07  \n",
       "Big Ten         164090.909091    1.489384e+07  \n",
       "Big 12          141562.500000    1.114661e+07  \n",
       "ACC             295702.428571    1.494152e+07  \n",
       "Pac-12          205233.400000    1.160545e+07  \n",
       "AAC              67333.333333    3.178301e+06  \n",
       "Mt. West        166454.545455    3.340035e+06  \n",
       "C-USA            43592.750000    2.792014e+06  \n",
       "Sun Belt         50714.285714    1.191101e+06  \n",
       "MAC              52858.272727    1.172810e+06  \n",
       "Ind.             20000.000000    9.163950e+05  "
      ]
     },
     "execution_count": 15,
     "metadata": {},
     "output_type": "execute_result"
    }
   ],
   "source": [
    "# Which Conference has the highest Average total pay?\n",
    "avg_total_by_by_conference = analysis_df \\\n",
    "    .groupby('Conference') \\\n",
    "    .agg(\n",
    "        average_TotalPay = pd.NamedAgg('TotalPay', 'mean'),\n",
    "        standardDev_TotalPay = pd.NamedAgg('TotalPay', 'std'),\n",
    "        average_Bonus = pd.NamedAgg('Bonus', 'mean'),\n",
    "        average_BonusPaid = pd.NamedAgg('BonusPaid', 'mean'),\n",
    "        average_Buyout = pd.NamedAgg('Buyout', 'mean'),\n",
    "    ) \\\n",
    "    .sort_values('average_TotalPay', ascending=False)\n",
    "\n",
    "# -- highest payments (on average)\n",
    "avg_total_by_by_conference"
   ]
  },
  {
   "cell_type": "code",
   "execution_count": 16,
   "id": "30b628a0-90e3-441e-8b38-848d147b923e",
   "metadata": {},
   "outputs": [
    {
     "data": {
      "text/html": [
       "<div>\n",
       "<style scoped>\n",
       "    .dataframe tbody tr th:only-of-type {\n",
       "        vertical-align: middle;\n",
       "    }\n",
       "\n",
       "    .dataframe tbody tr th {\n",
       "        vertical-align: top;\n",
       "    }\n",
       "\n",
       "    .dataframe thead th {\n",
       "        text-align: right;\n",
       "    }\n",
       "</style>\n",
       "<table border=\"1\" class=\"dataframe\">\n",
       "  <thead>\n",
       "    <tr style=\"text-align: right;\">\n",
       "      <th></th>\n",
       "      <th>average_TotalPay</th>\n",
       "      <th>standardDev_TotalPay</th>\n",
       "      <th>average_Bonus</th>\n",
       "      <th>average_BonusPaid</th>\n",
       "      <th>average_Buyout</th>\n",
       "    </tr>\n",
       "    <tr>\n",
       "      <th>Conference</th>\n",
       "      <th></th>\n",
       "      <th></th>\n",
       "      <th></th>\n",
       "      <th></th>\n",
       "      <th></th>\n",
       "    </tr>\n",
       "  </thead>\n",
       "  <tbody>\n",
       "    <tr>\n",
       "      <th>Ind.</th>\n",
       "      <td>4.598200e+05</td>\n",
       "      <td>5.682310e+04</td>\n",
       "      <td>2.625000e+05</td>\n",
       "      <td>20000.000000</td>\n",
       "      <td>9.163950e+05</td>\n",
       "    </tr>\n",
       "    <tr>\n",
       "      <th>Sun Belt</th>\n",
       "      <td>6.295000e+05</td>\n",
       "      <td>1.809008e+05</td>\n",
       "      <td>3.015476e+05</td>\n",
       "      <td>50714.285714</td>\n",
       "      <td>1.191101e+06</td>\n",
       "    </tr>\n",
       "    <tr>\n",
       "      <th>MAC</th>\n",
       "      <td>5.926849e+05</td>\n",
       "      <td>2.131545e+05</td>\n",
       "      <td>3.721312e+05</td>\n",
       "      <td>52858.272727</td>\n",
       "      <td>1.172810e+06</td>\n",
       "    </tr>\n",
       "    <tr>\n",
       "      <th>C-USA</th>\n",
       "      <td>8.517576e+05</td>\n",
       "      <td>2.472935e+05</td>\n",
       "      <td>4.980031e+05</td>\n",
       "      <td>43592.750000</td>\n",
       "      <td>2.792014e+06</td>\n",
       "    </tr>\n",
       "    <tr>\n",
       "      <th>Mt. West</th>\n",
       "      <td>1.016932e+06</td>\n",
       "      <td>4.929589e+05</td>\n",
       "      <td>7.600000e+05</td>\n",
       "      <td>166454.545455</td>\n",
       "      <td>3.340035e+06</td>\n",
       "    </tr>\n",
       "    <tr>\n",
       "      <th>AAC</th>\n",
       "      <td>1.592083e+06</td>\n",
       "      <td>6.386909e+05</td>\n",
       "      <td>7.495833e+05</td>\n",
       "      <td>67333.333333</td>\n",
       "      <td>3.178301e+06</td>\n",
       "    </tr>\n",
       "    <tr>\n",
       "      <th>Pac-12</th>\n",
       "      <td>3.208783e+06</td>\n",
       "      <td>1.097170e+06</td>\n",
       "      <td>1.152000e+06</td>\n",
       "      <td>205233.400000</td>\n",
       "      <td>1.160545e+07</td>\n",
       "    </tr>\n",
       "    <tr>\n",
       "      <th>Big 12</th>\n",
       "      <td>3.915323e+06</td>\n",
       "      <td>1.186319e+06</td>\n",
       "      <td>1.019375e+06</td>\n",
       "      <td>141562.500000</td>\n",
       "      <td>1.114661e+07</td>\n",
       "    </tr>\n",
       "    <tr>\n",
       "      <th>ACC</th>\n",
       "      <td>3.815543e+06</td>\n",
       "      <td>1.313236e+06</td>\n",
       "      <td>1.253988e+06</td>\n",
       "      <td>295702.428571</td>\n",
       "      <td>1.494152e+07</td>\n",
       "    </tr>\n",
       "    <tr>\n",
       "      <th>Big Ten</th>\n",
       "      <td>4.353311e+06</td>\n",
       "      <td>1.911881e+06</td>\n",
       "      <td>1.167424e+06</td>\n",
       "      <td>164090.909091</td>\n",
       "      <td>1.489384e+07</td>\n",
       "    </tr>\n",
       "    <tr>\n",
       "      <th>SEC</th>\n",
       "      <td>5.097122e+06</td>\n",
       "      <td>2.130591e+06</td>\n",
       "      <td>1.535714e+06</td>\n",
       "      <td>442857.142857</td>\n",
       "      <td>1.930577e+07</td>\n",
       "    </tr>\n",
       "  </tbody>\n",
       "</table>\n",
       "</div>"
      ],
      "text/plain": [
       "            average_TotalPay  standardDev_TotalPay  average_Bonus  \\\n",
       "Conference                                                          \n",
       "Ind.            4.598200e+05          5.682310e+04   2.625000e+05   \n",
       "Sun Belt        6.295000e+05          1.809008e+05   3.015476e+05   \n",
       "MAC             5.926849e+05          2.131545e+05   3.721312e+05   \n",
       "C-USA           8.517576e+05          2.472935e+05   4.980031e+05   \n",
       "Mt. West        1.016932e+06          4.929589e+05   7.600000e+05   \n",
       "AAC             1.592083e+06          6.386909e+05   7.495833e+05   \n",
       "Pac-12          3.208783e+06          1.097170e+06   1.152000e+06   \n",
       "Big 12          3.915323e+06          1.186319e+06   1.019375e+06   \n",
       "ACC             3.815543e+06          1.313236e+06   1.253988e+06   \n",
       "Big Ten         4.353311e+06          1.911881e+06   1.167424e+06   \n",
       "SEC             5.097122e+06          2.130591e+06   1.535714e+06   \n",
       "\n",
       "            average_BonusPaid  average_Buyout  \n",
       "Conference                                     \n",
       "Ind.             20000.000000    9.163950e+05  \n",
       "Sun Belt         50714.285714    1.191101e+06  \n",
       "MAC              52858.272727    1.172810e+06  \n",
       "C-USA            43592.750000    2.792014e+06  \n",
       "Mt. West        166454.545455    3.340035e+06  \n",
       "AAC              67333.333333    3.178301e+06  \n",
       "Pac-12          205233.400000    1.160545e+07  \n",
       "Big 12          141562.500000    1.114661e+07  \n",
       "ACC             295702.428571    1.494152e+07  \n",
       "Big Ten         164090.909091    1.489384e+07  \n",
       "SEC             442857.142857    1.930577e+07  "
      ]
     },
     "execution_count": 16,
     "metadata": {},
     "output_type": "execute_result"
    }
   ],
   "source": [
    "# -- most consistent payments\n",
    "consistent_payments = avg_total_by_by_conference.sort_values('standardDev_TotalPay', ascending=True)\n",
    "consistent_payments"
   ]
  },
  {
   "cell_type": "code",
   "execution_count": 17,
   "id": "48cc844e-3387-479c-aafb-36444a827eac",
   "metadata": {},
   "outputs": [
    {
     "data": {
      "text/plain": [
       "[Text(0, 0.5, 'Total Payment ($ Millions)'),\n",
       " Text(0.5, 1.0, 'Distribution of Compensation by Conference')]"
      ]
     },
     "execution_count": 17,
     "metadata": {},
     "output_type": "execute_result"
    },
    {
     "data": {
      "image/png": "[encoded data removed]",
      "text/plain": [
       "<Figure size 1440x720 with 1 Axes>"
      ]
     },
     "metadata": {},
     "output_type": "display_data"
    }
   ],
   "source": [
    "# plotting the distribution of TotalPay\n",
    "sns.set_theme(style='whitegrid')\n",
    "sns.set(rc={'figure.figsize':(20, 10)})\n",
    "ax = sns.boxplot(x='Conference', y='TotalPay', data=analysis_df, order=consistent_payments.index)\n",
    "ax.set(ylabel='Total Payment ($ Millions)', title='Distribution of Compensation by Conference')"
   ]
  },
  {
   "cell_type": "markdown",
   "id": "b67caa7f-82fa-4a3b-800e-730eeadabc4b",
   "metadata": {},
   "source": [
    "The tables and boxplot above indicate that the SEC Conference pays the highest (on average) while the Ind Conference pays the lowest. However, the SEC also has the largest variation in payment. If an individual wanted less variation in their payment then the Ind Conference would be their best best.\n",
    "\n",
    "To strike an optimal balance between high payment and low variation, and individual should go to the Pac-12 Conference."
   ]
  },
  {
   "cell_type": "markdown",
   "id": "6a7e2945-7a53-4540-a87a-b382a31c26c8",
   "metadata": {},
   "source": [
    "#### Is there a significant relationship between `TotalPay` and `Conference`?"
   ]
  },
  {
   "cell_type": "code",
   "execution_count": 18,
   "id": "9ab43b5b-9e39-4a38-aa7d-4893b0f81e10",
   "metadata": {},
   "outputs": [],
   "source": [
    "# conducting a Chi Squared test to determine the relationship betwen TotalPay and Conference\n",
    "def assign_distribution_category(values):\n",
    "    \"\"\"\n",
    "    This function accepts a list of values and bins the values into High, Medium and Low.\n",
    "    The values are binned based on the range of the input values.\n",
    "    \"\"\"\n",
    "    max_value = values.max()\n",
    "    min_value = values.min()\n",
    "    value_range = max_value - min_value\n",
    "    one_third_value_range = value_range * (1/3)\n",
    "    two_thirds_value_range = value_range * (2/3)\n",
    "    \n",
    "    category_list = []\n",
    "    \n",
    "    for value in values:        \n",
    "        if value < one_third_value_range:\n",
    "            category = 'Low'\n",
    "\n",
    "        elif (value >= one_third_value_range) and (value < two_thirds_value_range):\n",
    "            category = 'Medium'\n",
    "\n",
    "        else:\n",
    "            category = 'High'\n",
    "            \n",
    "        category_list.append(category)\n",
    "        \n",
    "    return category_list"
   ]
  },
  {
   "cell_type": "code",
   "execution_count": 19,
   "id": "3853683a-04fc-4f99-a0f5-5894a9e88001",
   "metadata": {},
   "outputs": [],
   "source": [
    "analysis_df['TotalPay_Category'] = assign_distribution_category(analysis_df['TotalPay'])\n",
    "analysis_df['TotalPay_Category'] = analysis_df['TotalPay_Category'].astype('category')"
   ]
  },
  {
   "cell_type": "code",
   "execution_count": 20,
   "id": "22f627f4-73ec-4afd-8694-cf14ca746d86",
   "metadata": {},
   "outputs": [],
   "source": [
    "def run_chi2_test(var1, var2, alpha):\n",
    "    \"\"\"\n",
    "    This function accepts 2 variables and an alpha level as inputs\n",
    "    Conducts a Chi-Squared test on the input variables\n",
    "    Returns a dictionary with the contingency table null hypothesis decision\n",
    "    \"\"\"    \n",
    "    contingency_table = pd.crosstab(var1, var2)\n",
    "    c, p, dof, expected = chi2_contingency(contingency_table)\n",
    "    \n",
    "    if p < alpha:\n",
    "        H0_statement = 'The p-value is less than alpha; ie: ' + str(round(p, 4)) + ' < ' + str(alpha) + '. Therefore, there is enough statistical evidence to suggest that there is a relationship between the variables.'\n",
    "        \n",
    "    else:        \n",
    "        H0_statement = 'The p-value is greater than alpha; ie: ' + str(round(p, 4)) + ' > ' + str(alpha) + '. Therefore, there is not enough statistical evidence to suggest that there is a relationship between the variables.'\n",
    "        \n",
    "    od = {'contingency_table': contingency_table, 'H0_decision': H0_statement}\n",
    "    \n",
    "    return od"
   ]
  },
  {
   "cell_type": "code",
   "execution_count": 21,
   "id": "b47017d2-834f-49a8-a3f3-32e72aa46ccc",
   "metadata": {},
   "outputs": [
    {
     "data": {
      "text/plain": [
       "'The p-value is less than alpha; ie: 0.0 < 0.05. Therefore, there is enough statistical evidence to suggest that there is a relationship between the variables.'"
      ]
     },
     "execution_count": 21,
     "metadata": {},
     "output_type": "execute_result"
    }
   ],
   "source": [
    "run_chi2_test(analysis_df['TotalPay_Category'], analysis_df['Conference'], 0.05)['H0_decision']"
   ]
  },
  {
   "cell_type": "markdown",
   "id": "af2a1163-e799-45d9-a53b-9c9c2fdd001f",
   "metadata": {},
   "source": [
    "Based on the hypotheses previously stated, there is also a likely relationship between the `win_rate` and the `TotalPay`."
   ]
  },
  {
   "cell_type": "markdown",
   "id": "08a5f74c-716d-4193-ba27-edb14275a584",
   "metadata": {},
   "source": [
    "#### What is the relationship between `TotalPay` and `win_rate`?"
   ]
  },
  {
   "cell_type": "code",
   "execution_count": 22,
   "id": "197f5adb-427f-4e54-90d9-5679cd0a3bad",
   "metadata": {},
   "outputs": [
    {
     "data": {
      "text/plain": [
       "'The p-value is less than alpha; ie: 0.0051 < 0.05. Therefore, there is enough statistical evidence to suggest that there is a relationship between the variables.'"
      ]
     },
     "execution_count": 22,
     "metadata": {},
     "output_type": "execute_result"
    }
   ],
   "source": [
    "analysis_df['win_rate_Category'] = assign_distribution_category(analysis_df['win_rate'])\n",
    "analysis_df['win_rate_Category'] = analysis_df['win_rate_Category'].astype('category')\n",
    "run_chi2_test(analysis_df['TotalPay_Category'], analysis_df['win_rate_Category'], 0.05)['H0_decision']"
   ]
  },
  {
   "cell_type": "code",
   "execution_count": 23,
   "id": "0e2a4fa9-7027-4335-81fd-992afa7454c6",
   "metadata": {},
   "outputs": [
    {
     "data": {
      "image/png": "[encoded data removed]",
      "text/plain": [
       "<Figure size 1440x360 with 1 Axes>"
      ]
     },
     "metadata": {},
     "output_type": "display_data"
    }
   ],
   "source": [
    "fig = plt.figure(figsize = (20, 5))\n",
    "plt.scatter(analysis_df['win_rate'], analysis_df['TotalPay'])\n",
    "plt.xlabel('Win Rate')\n",
    "plt.ylabel('Total Payment ($ Millions)')\n",
    "plt.title('Relationship Between Total Payment and Win Rate')\n",
    "plt.show()"
   ]
  },
  {
   "cell_type": "markdown",
   "id": "5602f4aa-3244-4124-8057-750a404608a9",
   "metadata": {},
   "source": [
    "As can be seen, as the win rate increases, the total also payment increases."
   ]
  },
  {
   "cell_type": "code",
   "execution_count": 24,
   "id": "5bf0da98-cd6d-4f99-8fce-97d2d991985d",
   "metadata": {},
   "outputs": [
    {
     "data": {
      "text/plain": [
       "[Text(0, 0.5, 'Total Payment ($ Millions)'),\n",
       " Text(0.5, 0, 'Win Rate Category'),\n",
       " Text(0.5, 1.0, 'Distribution of Compensation by Win Rate Category')]"
      ]
     },
     "execution_count": 24,
     "metadata": {},
     "output_type": "execute_result"
    },
    {
     "data": {
      "image/png": "[encoded data removed]",
      "text/plain": [
       "<Figure size 1440x720 with 1 Axes>"
      ]
     },
     "metadata": {},
     "output_type": "display_data"
    }
   ],
   "source": [
    "sns.set_theme(style='whitegrid')\n",
    "sns.set(rc={'figure.figsize':(20, 10)})\n",
    "ax = sns.boxplot(x='win_rate_Category', y='TotalPay', data=analysis_df, order=['High', 'Medium', 'Low'])\n",
    "ax.set(ylabel='Total Payment ($ Millions)',xlabel='Win Rate Category', title='Distribution of Compensation by Win Rate Category')"
   ]
  },
  {
   "cell_type": "markdown",
   "id": "92b54705-75b4-4138-bfd7-dfa7573a9c49",
   "metadata": {},
   "source": [
    "The boxplot above shows that there is significant overlap for payment between all win rate categories. However, the key takeaway from this plot is that coaches should try to break out of the Low win rate category, as the variation in payment is small and the average payment is low (ie, they will be guaranteed a lower payment when compared to coaches in a Medium or High win rate)."
   ]
  },
  {
   "cell_type": "markdown",
   "id": "38b827e3-6a34-42cb-b205-33dcf6aa219c",
   "metadata": {},
   "source": [
    "#### What are the relatoinships between all variables?"
   ]
  },
  {
   "cell_type": "code",
   "execution_count": 25,
   "id": "41739eea-bd7a-42b5-b241-f5441225e982",
   "metadata": {},
   "outputs": [
    {
     "data": {
      "image/png": "[encoded data removed]",
      "text/plain": [
       "<Figure size 1440x720 with 2 Axes>"
      ]
     },
     "metadata": {},
     "output_type": "display_data"
    }
   ],
   "source": [
    "numerics_df = analysis_df[['TotalPay', 'SchoolPay', 'Bonus', 'BonusPaid', 'Buyout', 'stadium_capacity', 'gsr', 'fgr', 'win_rate']]\n",
    "\n",
    "numberics_correlation_matrix = numerics_df.corr()\n",
    "sns.heatmap(numberics_correlation_matrix, annot=True)\n",
    "plt.show()"
   ]
  },
  {
   "cell_type": "markdown",
   "id": "0fbc13d9-33e3-418c-86a6-4bf8eac4aea0",
   "metadata": {},
   "source": [
    "From the correlation matrix above, it can be inferred that the strongest relationship between any variable and `TotalPay` is with `Buyout`; `Buyout` has a relatively strong positive relationship with `TotalPay`. This indicates that as the `Buyout` increases, `TotalPay` also increases. \n",
    "\n",
    "There also also some instances of multicolinearity within the data set. Multicolinearity exists when there are relatively strong relationships between the predictor variables within the data set. An instance of this can be seen between `Buyout` and `stadium_capacity`; these variables have a moderately strong positive relationship.\n",
    "\n",
    "When investigating linear models with these variables, it would be ideal to only include one of these variables (as compared to including both), since there would be significant overlap in what the measure in terms of `TotalPay` variation."
   ]
  },
  {
   "cell_type": "markdown",
   "id": "e867d37d-6c65-4b0a-ba27-88fac8a209f4",
   "metadata": {},
   "source": [
    "### Data Modeling"
   ]
  },
  {
   "cell_type": "code",
   "execution_count": 26,
   "id": "26637eff-4b6f-46dc-8467-3c10d4582c7e",
   "metadata": {},
   "outputs": [
    {
     "name": "stdout",
     "output_type": "stream",
     "text": [
      "                            OLS Regression Results                            \n",
      "==============================================================================\n",
      "Dep. Variable:               TotalPay   R-squared:                       0.917\n",
      "Model:                            OLS   Adj. R-squared:                  0.897\n",
      "Method:                 Least Squares   F-statistic:                     45.04\n",
      "Date:                Fri, 22 Oct 2021   Prob (F-statistic):           1.37e-30\n",
      "Time:                        17:02:35   Log-Likelihood:                -1276.4\n",
      "No. Observations:                  87   AIC:                             2589.\n",
      "Df Residuals:                      69   BIC:                             2633.\n",
      "Df Model:                          17                                         \n",
      "Covariance Type:            nonrobust                                         \n",
      "=======================================================================================\n",
      "                          coef    std err          t      P>|t|      [0.025      0.975]\n",
      "---------------------------------------------------------------------------------------\n",
      "const                1.166e+05   1.12e+06      0.104      0.917   -2.11e+06    2.35e+06\n",
      "Bonus                  -0.1976      0.160     -1.235      0.221      -0.517       0.121\n",
      "BonusPaid               0.3203      0.401      0.798      0.428      -0.481       1.121\n",
      "Buyout                  0.1114      0.013      8.374      0.000       0.085       0.138\n",
      "stadium_capacity        8.9194      4.833      1.845      0.069      -0.722      18.561\n",
      "gsr                  5343.2350   8305.806      0.643      0.522   -1.12e+04    2.19e+04\n",
      "fgr                   612.2649   1.04e+04      0.059      0.953   -2.02e+04    2.14e+04\n",
      "win_rate             7244.9323   3313.353      2.187      0.032     634.975    1.39e+04\n",
      "Conference_ACC       7.403e+05   3.97e+05      1.866      0.066   -5.13e+04    1.53e+06\n",
      "Conference_Big 12    1.177e+06    3.7e+05      3.182      0.002    4.39e+05    1.91e+06\n",
      "Conference_Big Ten   1.077e+06    3.9e+05      2.760      0.007    2.98e+05    1.85e+06\n",
      "Conference_C-USA    -5.864e+05   3.28e+05     -1.785      0.079   -1.24e+06    6.89e+04\n",
      "Conference_Ind.     -6.549e+05    5.4e+05     -1.213      0.229   -1.73e+06    4.23e+05\n",
      "Conference_MAC      -6.507e+05   3.69e+05     -1.764      0.082   -1.39e+06    8.53e+04\n",
      "Conference_Mt. West -5.992e+05   3.34e+05     -1.796      0.077   -1.26e+06    6.64e+04\n",
      "Conference_Pac-12    7.021e+05   4.23e+05      1.661      0.101   -1.41e+05    1.55e+06\n",
      "Conference_SEC       1.191e+06   4.46e+05      2.670      0.009    3.01e+05    2.08e+06\n",
      "Conference_Sun Belt -7.479e+05   3.74e+05     -2.001      0.049   -1.49e+06   -2328.462\n",
      "==============================================================================\n",
      "Omnibus:                       17.378   Durbin-Watson:                   1.713\n",
      "Prob(Omnibus):                  0.000   Jarque-Bera (JB):               39.142\n",
      "Skew:                           0.651   Prob(JB):                     3.17e-09\n",
      "Kurtosis:                       6.017   Cond. No.                     1.95e+08\n",
      "==============================================================================\n",
      "\n",
      "Notes:\n",
      "[1] Standard Errors assume that the covariance matrix of the errors is correctly specified.\n",
      "[2] The condition number is large, 1.95e+08. This might indicate that there are\n",
      "strong multicollinearity or other numerical problems.\n"
     ]
    }
   ],
   "source": [
    "Y = analysis_df['TotalPay']\n",
    "X_1 = analysis_df[['Conference', 'Bonus', 'BonusPaid', 'Buyout', 'stadium_capacity', 'gsr', 'fgr', 'win_rate']]\n",
    "X_1 = pd.get_dummies(X_1, drop_first=True)\n",
    "\n",
    "X_1 = sm.add_constant(X_1)\n",
    "linear_model_1 = sm.OLS(Y, X_1).fit()\n",
    "print(linear_model_1.summary())"
   ]
  },
  {
   "cell_type": "markdown",
   "id": "0b24f731-ca95-4290-b5e5-6be2bfcff3ad",
   "metadata": {},
   "source": [
    "The Adjusted R-Squared from this model indicates that ~89.7% of the variation in `TotalPay` can be explained by `Conference`, `Bonus`, `BonusPaid`, `Buyout`, `stadium_capacity`, `gsr`, `fgr` and `win_rate`.\n",
    "\n",
    "Through analyzing the p-values at the 5% level of significance, the significant variables within the model are `Buyout`, `win_rate`, and `Conference`. "
   ]
  },
  {
   "cell_type": "code",
   "execution_count": 27,
   "id": "ab04dbd6-2b27-468f-b81a-20925ba5e1d5",
   "metadata": {},
   "outputs": [
    {
     "name": "stdout",
     "output_type": "stream",
     "text": [
      "                            OLS Regression Results                            \n",
      "==============================================================================\n",
      "Dep. Variable:               TotalPay   R-squared:                       0.910\n",
      "Model:                            OLS   Adj. R-squared:                  0.895\n",
      "Method:                 Least Squares   F-statistic:                     62.17\n",
      "Date:                Fri, 22 Oct 2021   Prob (F-statistic):           1.20e-33\n",
      "Time:                        17:02:35   Log-Likelihood:                -1280.2\n",
      "No. Observations:                  87   AIC:                             2586.\n",
      "Df Residuals:                      74   BIC:                             2619.\n",
      "Df Model:                          12                                         \n",
      "Covariance Type:            nonrobust                                         \n",
      "=======================================================================================\n",
      "                          coef    std err          t      P>|t|      [0.025      0.975]\n",
      "---------------------------------------------------------------------------------------\n",
      "const                8.291e+05   3.07e+05      2.705      0.008    2.18e+05    1.44e+06\n",
      "Buyout                  0.1256      0.011     11.072      0.000       0.103       0.148\n",
      "win_rate             7192.9584   3221.357      2.233      0.029     774.265    1.36e+04\n",
      "Conference_ACC       6.809e+05   3.81e+05      1.786      0.078   -7.89e+04    1.44e+06\n",
      "Conference_Big 12     1.23e+06    3.6e+05      3.421      0.001    5.14e+05    1.95e+06\n",
      "Conference_Big Ten   1.148e+06   3.53e+05      3.257      0.002    4.46e+05    1.85e+06\n",
      "Conference_C-USA     -6.02e+05   3.25e+05     -1.852      0.068   -1.25e+06    4.56e+04\n",
      "Conference_Ind.     -5.959e+05   5.38e+05     -1.108      0.272   -1.67e+06    4.76e+05\n",
      "Conference_MAC      -7.108e+05   3.28e+05     -2.164      0.034   -1.37e+06   -5.64e+04\n",
      "Conference_Mt. West -6.308e+05   3.28e+05     -1.924      0.058   -1.28e+06    2.26e+04\n",
      "Conference_Pac-12    6.481e+05   4.07e+05      1.593      0.116   -1.63e+05    1.46e+06\n",
      "Conference_SEC       1.328e+06      4e+05      3.321      0.001    5.31e+05    2.13e+06\n",
      "Conference_Sun Belt -7.192e+05    3.6e+05     -1.999      0.049   -1.44e+06   -2319.844\n",
      "==============================================================================\n",
      "Omnibus:                       21.953   Durbin-Watson:                   1.685\n",
      "Prob(Omnibus):                  0.000   Jarque-Bera (JB):               62.284\n",
      "Skew:                           0.755   Prob(JB):                     2.99e-14\n",
      "Kurtosis:                       6.860   Cond. No.                     1.58e+08\n",
      "==============================================================================\n",
      "\n",
      "Notes:\n",
      "[1] Standard Errors assume that the covariance matrix of the errors is correctly specified.\n",
      "[2] The condition number is large, 1.58e+08. This might indicate that there are\n",
      "strong multicollinearity or other numerical problems.\n"
     ]
    }
   ],
   "source": [
    "# examining the model with only the significant variables\n",
    "X_2 = analysis_df[['Conference', 'Buyout', 'win_rate']]\n",
    "X_2 = pd.get_dummies(X_2, drop_first=True)\n",
    "\n",
    "X_2 = sm.add_constant(X_2)\n",
    "linear_model_2 = sm.OLS(Y, X_2).fit()\n",
    "print(linear_model_2.summary())"
   ]
  },
  {
   "cell_type": "markdown",
   "id": "fcdffa51-a271-4766-b172-4fe1c7822a96",
   "metadata": {},
   "source": [
    "The Adjusted R-Squared from this model indicates that ~89.5% of the variation in `TotalPay` can be explained by `Conference`, `Buyout`, and `win_rate`. Although this is a slightly lower value than the previous model, this model has better performance since it preduces similar results with fewer inputs. Additionally, the variables within the model are statistically significant."
   ]
  },
  {
   "cell_type": "markdown",
   "id": "99103e2c-53ee-4c3b-aa35-bc5dab242520",
   "metadata": {},
   "source": [
    "The coefficient on `Buyout` is `0.1256`, and this indicates that as the `Buyout` value increases by 1 unit, holding all the other variables within the model constant, the `TotalPay` is expected to increase by ~$0.1256."
   ]
  },
  {
   "cell_type": "markdown",
   "id": "d1ca4a2e-4381-43ec-95be-f9b182a4aaad",
   "metadata": {},
   "source": [
    "The coefficient on `win_rate` is `7192.9584`, and this indicates that as the `win_rate` value increases by 1%, holding all the other variables within the model constant, the `TotalPay` is expected to increase by ~$7192.9584."
   ]
  },
  {
   "cell_type": "markdown",
   "id": "125e5836-7ddf-4db8-8485-807d0452f4aa",
   "metadata": {},
   "source": [
    "The coefficient on `Conference_ACC` is `6.809e+05`, and this indicates that if a team is in the ACC Conference, holding all the other variables within the model constant, the coach can expect the salary to be ~$6.809e+05 higher than the salary for a team in the AAC Conference."
   ]
  },
  {
   "cell_type": "markdown",
   "id": "098702eb-6770-4a7a-a5b9-fc803304be7e",
   "metadata": {},
   "source": [
    "The coefficient on `Conference_Big 12` is `1.23e+06`, and this indicates that if a team is in the Big 12 Conference, holding all the other variables within the model constant, the coach can expect the salary to be ~$1.23e+06 higher than the salary for a team in the AAC Conference."
   ]
  },
  {
   "cell_type": "markdown",
   "id": "75a76d6d-ab81-432c-bac6-556caf2925c7",
   "metadata": {},
   "source": [
    "The coefficient on `Conference_Big Ten` is `1.148e+06`, and this indicates that if a team is in the Big Ten Conference, holding all the other variables within the model constant, the coach can expect the salary to be ~$1.148e+06 higher than the salary for a team in the AAC Conference."
   ]
  },
  {
   "cell_type": "markdown",
   "id": "d40576df-8b8c-47a1-b22f-dad66cf443ef",
   "metadata": {},
   "source": [
    "The coefficient on `Conference_C-USA` is `-6.02e+05`, and this indicates that if a team is in the C-USA Conference, holding all the other variables within the model constant, the coach can expect the salary to be ~$6.02e+05 lower than the salary for a team in the AAC Conference."
   ]
  },
  {
   "cell_type": "markdown",
   "id": "32ad5678-822d-4e36-aa91-798ff28d39ff",
   "metadata": {},
   "source": [
    "The coefficient on `Conference_Ind` is `-5.959e+05`, and this indicates that if a team is in the Ind Conference, holding all the other variables within the model constant, the coach can expect the salary to be ~$5.959e+05 lower than the salary for a team in the AAC Conference."
   ]
  },
  {
   "cell_type": "markdown",
   "id": "6f1747ec-8126-403a-9555-09e5f513ebf2",
   "metadata": {},
   "source": [
    "The coefficient on `Conference_MAC` is `-7.108e+05`, and this indicates that if a team is in the MAC Conference, holding all the other variables within the model constant, the coach can expect the salary to be ~$7.108e+05 lower than the salary for a team in the AAC Conference."
   ]
  },
  {
   "cell_type": "markdown",
   "id": "5ac583ed-c9c8-4d93-b8db-53c9d44e897d",
   "metadata": {},
   "source": [
    "The coefficient on `Conference_Mt. West` is `-6.308e+05`, and this indicates that if a team is in the Mt West Conference, holding all the other variables within the model constant, the coach can expect the salary to be ~$6.308e+05 lower than the salary for a team in the AAC Conference."
   ]
  },
  {
   "cell_type": "markdown",
   "id": "81e09068-2bd5-4489-a807-9c543f5a1f71",
   "metadata": {},
   "source": [
    "The coefficient on `Conference_Pac-12` is `6.481e+05`, and this indicates that if a team is in the Pac-12 Conference, holding all the other variables within the model constant, the coach can expect the salary to be ~$6.481e+05 higher than the salary for a team in the AAC Conference."
   ]
  },
  {
   "cell_type": "markdown",
   "id": "877f60bd-7d4d-4dd6-b71b-5b5162764f39",
   "metadata": {},
   "source": [
    "The coefficient on `Conference_SEC` is `1.328e+06`, and this indicates that if a team is in the SEC Conference, holding all the other variables within the model constant, the coach can expect the salary to be ~$1.328e+06 higher than the salary for a team in the AAC Conference."
   ]
  },
  {
   "cell_type": "markdown",
   "id": "d85e4577-7857-4c1c-9dc5-76691fa8b1e9",
   "metadata": {},
   "source": [
    "The coefficient on `Conference_Sun Belt` is `-7.192e+05`, and this indicates that if a team is in the Sun Belt Conference, holding all the other variables within the model constant, the coach can expect the salary to be ~$7.192e+05 lower than the salary for a team in the AAC Conference."
   ]
  },
  {
   "cell_type": "markdown",
   "id": "a5a151a5-9d62-4ed3-953b-8640de2edbbc",
   "metadata": {},
   "source": [
    "Although linear model 2 performs well, the Chi-squared test was conducted with a categoriezed win rate. Therefore, a model with the win rate categorized should be investigated."
   ]
  },
  {
   "cell_type": "code",
   "execution_count": 28,
   "id": "3e4b25fa-38dd-4bf1-af15-0bd1c6db232f",
   "metadata": {},
   "outputs": [
    {
     "name": "stdout",
     "output_type": "stream",
     "text": [
      "                            OLS Regression Results                            \n",
      "==============================================================================\n",
      "Dep. Variable:               TotalPay   R-squared:                       0.917\n",
      "Model:                            OLS   Adj. R-squared:                  0.895\n",
      "Method:                 Least Squares   F-statistic:                     41.63\n",
      "Date:                Fri, 22 Oct 2021   Prob (F-statistic):           1.16e-29\n",
      "Time:                        17:02:35   Log-Likelihood:                -1276.7\n",
      "No. Observations:                  87   AIC:                             2591.\n",
      "Df Residuals:                      68   BIC:                             2638.\n",
      "Df Model:                          18                                         \n",
      "Covariance Type:            nonrobust                                         \n",
      "============================================================================================\n",
      "                               coef    std err          t      P>|t|      [0.025      0.975]\n",
      "--------------------------------------------------------------------------------------------\n",
      "const                     5.709e+05    1.1e+06      0.518      0.606   -1.63e+06    2.77e+06\n",
      "Bonus                       -0.2265      0.164     -1.383      0.171      -0.553       0.100\n",
      "BonusPaid                    0.3511      0.405      0.867      0.389      -0.457       1.159\n",
      "Buyout                       0.1131      0.013      8.466      0.000       0.086       0.140\n",
      "stadium_capacity             7.2287      5.062      1.428      0.158      -2.872      17.330\n",
      "gsr                       7417.0552   8686.849      0.854      0.396   -9917.281    2.48e+04\n",
      "fgr                       1991.6331   1.06e+04      0.188      0.852   -1.92e+04    2.32e+04\n",
      "Conference_ACC            7.933e+05   4.08e+05      1.946      0.056      -2e+04    1.61e+06\n",
      "Conference_Big 12         1.221e+06   3.73e+05      3.272      0.002    4.76e+05    1.97e+06\n",
      "Conference_Big Ten        1.134e+06   3.94e+05      2.877      0.005    3.47e+05    1.92e+06\n",
      "Conference_C-USA         -6.421e+05   3.32e+05     -1.934      0.057    -1.3e+06    2.03e+04\n",
      "Conference_Ind.          -8.172e+05    5.5e+05     -1.485      0.142   -1.92e+06    2.81e+05\n",
      "Conference_MAC           -7.292e+05   3.78e+05     -1.927      0.058   -1.48e+06    2.57e+04\n",
      "Conference_Mt. West      -6.074e+05   3.38e+05     -1.796      0.077   -1.28e+06    6.73e+04\n",
      "Conference_Pac-12         7.002e+05   4.27e+05      1.638      0.106   -1.53e+05    1.55e+06\n",
      "Conference_SEC            1.273e+06   4.57e+05      2.787      0.007    3.62e+05    2.18e+06\n",
      "Conference_Sun Belt      -7.604e+05   3.78e+05     -2.010      0.048   -1.52e+06   -5427.336\n",
      "win_rate_Category_Low    -3.753e+05   2.18e+05     -1.721      0.090    -8.1e+05    5.99e+04\n",
      "win_rate_Category_Medium -3.635e+05   1.91e+05     -1.905      0.061   -7.44e+05    1.73e+04\n",
      "==============================================================================\n",
      "Omnibus:                       19.235   Durbin-Watson:                   1.772\n",
      "Prob(Omnibus):                  0.000   Jarque-Bera (JB):               46.505\n",
      "Skew:                           0.705   Prob(JB):                     7.97e-11\n",
      "Kurtosis:                       6.292   Cond. No.                     1.90e+08\n",
      "==============================================================================\n",
      "\n",
      "Notes:\n",
      "[1] Standard Errors assume that the covariance matrix of the errors is correctly specified.\n",
      "[2] The condition number is large, 1.9e+08. This might indicate that there are\n",
      "strong multicollinearity or other numerical problems.\n"
     ]
    }
   ],
   "source": [
    "X_3 = analysis_df[['Conference', 'Bonus', 'BonusPaid', 'Buyout', 'stadium_capacity', 'gsr', 'fgr', 'win_rate_Category']]\n",
    "X_3 = pd.get_dummies(X_3, drop_first=True)\n",
    "\n",
    "X_3 = sm.add_constant(X_3)\n",
    "linear_model_3 = sm.OLS(Y, X_3).fit()\n",
    "print(linear_model_3.summary())"
   ]
  },
  {
   "cell_type": "markdown",
   "id": "70637434-f786-44d9-ac14-07cf6dc33c0e",
   "metadata": {},
   "source": [
    "Through analyzing the p-values at the 5% level of significance, the significant variables within the model are `Buyout`, and `Conference`. "
   ]
  },
  {
   "cell_type": "code",
   "execution_count": 29,
   "id": "b6d1b33c-a4b2-4bc2-9daa-07c018ab090c",
   "metadata": {},
   "outputs": [
    {
     "name": "stdout",
     "output_type": "stream",
     "text": [
      "                            OLS Regression Results                            \n",
      "==============================================================================\n",
      "Dep. Variable:               TotalPay   R-squared:                       0.904\n",
      "Model:                            OLS   Adj. R-squared:                  0.890\n",
      "Method:                 Least Squares   F-statistic:                     63.97\n",
      "Date:                Fri, 22 Oct 2021   Prob (F-statistic):           1.58e-33\n",
      "Time:                        17:02:35   Log-Likelihood:                -1283.1\n",
      "No. Observations:                  87   AIC:                             2590.\n",
      "Df Residuals:                      75   BIC:                             2620.\n",
      "Df Model:                          11                                         \n",
      "Covariance Type:            nonrobust                                         \n",
      "=======================================================================================\n",
      "                          coef    std err          t      P>|t|      [0.025      0.975]\n",
      "---------------------------------------------------------------------------------------\n",
      "const                 1.17e+06   2.73e+05      4.292      0.000    6.27e+05    1.71e+06\n",
      "Buyout                  0.1327      0.011     11.862      0.000       0.110       0.155\n",
      "Conference_ACC       6.626e+05   3.91e+05      1.694      0.094   -1.17e+05    1.44e+06\n",
      "Conference_Big 12    1.266e+06   3.69e+05      3.434      0.001    5.32e+05       2e+06\n",
      "Conference_Big Ten   1.207e+06   3.61e+05      3.345      0.001    4.88e+05    1.93e+06\n",
      "Conference_C-USA    -6.891e+05   3.31e+05     -2.081      0.041   -1.35e+06   -2.94e+04\n",
      "Conference_Ind.     -8.321e+05   5.41e+05     -1.537      0.128   -1.91e+06    2.46e+05\n",
      "Conference_MAC      -7.333e+05   3.37e+05     -2.177      0.033    -1.4e+06   -6.22e+04\n",
      "Conference_Mt. West -5.966e+05   3.36e+05     -1.775      0.080   -1.27e+06    7.29e+04\n",
      "Conference_Pac-12    4.985e+05   4.12e+05      1.210      0.230   -3.22e+05    1.32e+06\n",
      "Conference_SEC       1.365e+06    4.1e+05      3.328      0.001    5.48e+05    2.18e+06\n",
      "Conference_Sun Belt -6.989e+05   3.69e+05     -1.893      0.062   -1.43e+06    3.64e+04\n",
      "==============================================================================\n",
      "Omnibus:                       25.443   Durbin-Watson:                   1.690\n",
      "Prob(Omnibus):                  0.000   Jarque-Bera (JB):               93.031\n",
      "Skew:                           0.794   Prob(JB):                     6.29e-21\n",
      "Kurtosis:                       7.810   Cond. No.                     1.57e+08\n",
      "==============================================================================\n",
      "\n",
      "Notes:\n",
      "[1] Standard Errors assume that the covariance matrix of the errors is correctly specified.\n",
      "[2] The condition number is large, 1.57e+08. This might indicate that there are\n",
      "strong multicollinearity or other numerical problems.\n"
     ]
    }
   ],
   "source": [
    "# examining only the significant variables\n",
    "X_4 = analysis_df[['Conference', 'Buyout']]\n",
    "X_4 = pd.get_dummies(X_4, drop_first=True)\n",
    "\n",
    "X_4 = sm.add_constant(X_4)\n",
    "linear_model_4 = sm.OLS(Y, X_4).fit()\n",
    "print(linear_model_4.summary())"
   ]
  },
  {
   "cell_type": "markdown",
   "id": "cd16a74c-5635-4d4f-a62b-c2cca279356b",
   "metadata": {},
   "source": [
    "The Adjusted R-Squared from this model indicates that ~89% of the variation in `TotalPay` can be explained by `Conference`, and `Buyout`. \n",
    "\n",
    "The interpretaion of the coefficients within this model is similar to the interpretaion of the coefficients within linear model 2."
   ]
  },
  {
   "cell_type": "markdown",
   "id": "3df383db-75c7-4f80-9c17-705a517952c3",
   "metadata": {},
   "source": [
    "### Lab Questions and Answers"
   ]
  },
  {
   "cell_type": "markdown",
   "id": "41a887f7-f546-410d-a6aa-0cc05179faa6",
   "metadata": {},
   "source": [
    "#### What is the recommended salary for the Syracuse football coach?"
   ]
  },
  {
   "cell_type": "code",
   "execution_count": 30,
   "id": "47b19b83-4b57-4414-9373-b0d50795f9a5",
   "metadata": {},
   "outputs": [
    {
     "data": {
      "text/html": [
       "<div>\n",
       "<style scoped>\n",
       "    .dataframe tbody tr th:only-of-type {\n",
       "        vertical-align: middle;\n",
       "    }\n",
       "\n",
       "    .dataframe tbody tr th {\n",
       "        vertical-align: top;\n",
       "    }\n",
       "\n",
       "    .dataframe thead th {\n",
       "        text-align: right;\n",
       "    }\n",
       "</style>\n",
       "<table border=\"1\" class=\"dataframe\">\n",
       "  <thead>\n",
       "    <tr style=\"text-align: right;\">\n",
       "      <th></th>\n",
       "      <th>School</th>\n",
       "      <th>Conference</th>\n",
       "      <th>Coach</th>\n",
       "      <th>SchoolPay</th>\n",
       "      <th>TotalPay</th>\n",
       "      <th>Bonus</th>\n",
       "      <th>BonusPaid</th>\n",
       "      <th>AssistantPay</th>\n",
       "      <th>Buyout</th>\n",
       "    </tr>\n",
       "  </thead>\n",
       "  <tbody>\n",
       "    <tr>\n",
       "      <th>102</th>\n",
       "      <td>Syracuse</td>\n",
       "      <td>ACC</td>\n",
       "      <td>Dino Babers</td>\n",
       "      <td>2401206</td>\n",
       "      <td>2401206</td>\n",
       "      <td>--</td>\n",
       "      <td>--</td>\n",
       "      <td>0</td>\n",
       "      <td>--</td>\n",
       "    </tr>\n",
       "  </tbody>\n",
       "</table>\n",
       "</div>"
      ],
      "text/plain": [
       "       School Conference        Coach SchoolPay  TotalPay Bonus BonusPaid  \\\n",
       "102  Syracuse        ACC  Dino Babers  2401206   2401206     --        --   \n",
       "\n",
       "    AssistantPay Buyout  \n",
       "102           0      --  "
      ]
     },
     "execution_count": 30,
     "metadata": {},
     "output_type": "execute_result"
    }
   ],
   "source": [
    "# looking at the row re: Syracuse\n",
    "coaches_initial_df[coaches_initial_df['School'] == 'Syracuse']"
   ]
  },
  {
   "cell_type": "code",
   "execution_count": 31,
   "id": "9cd84f03-6190-4bcd-882e-4b7937c81a58",
   "metadata": {},
   "outputs": [
    {
     "name": "stdout",
     "output_type": "stream",
     "text": [
      "The recommended salary for the Syracuse football coach is ~$1,818,577.92, assuming that the school had a previous win rate of 42.9% and that the buyout was $0.00\n"
     ]
    }
   ],
   "source": [
    "# using linear_model_2 as it was the best model -- having highest Adjusted R-Squared and significant variables:\n",
    "# -- assume Buyout = 0\n",
    "Syracuse_coach_salary_lm2 = (8.291e+05) + (0.1256 * 0) + (7192.9584 * 42.9) + (6.809e+05)\n",
    "print('The recommended salary for the Syracuse football coach is ~${:,.2f}, assuming that the school had a previous win rate of 42.9% and that the buyout was $0.00'.format(Syracuse_coach_salary_lm2))"
   ]
  },
  {
   "cell_type": "markdown",
   "id": "c57b59b1-3565-4f75-bf6d-23cda29efa1a",
   "metadata": {},
   "source": [
    "#### What would be the salary be if Syracuse was still in the `Big East`?"
   ]
  },
  {
   "cell_type": "code",
   "execution_count": 32,
   "id": "749510a8-2c46-4aed-92da-16bfbd4e8a4d",
   "metadata": {},
   "outputs": [
    {
     "name": "stdout",
     "output_type": "stream",
     "text": [
      "The recommended salary for the Syracuse football coach, if Syracuse was in the Best East, is ~$1,137,677.92, assuming that the school had a previous win rate of 42.9% and that the buyout was $0.00\n"
     ]
    }
   ],
   "source": [
    "# using linear_model_2 as it was the best model -- having highest Adjusted R-Squared and significant variables:\n",
    "# -- NB: Big East is now called the American Athletic Conference (AAC)\n",
    "# -- assume Buyout = 0\n",
    "Syracuse_coach_salary_BigEast_lm2 = (8.291e+05) + (0.1256 * 0) + (7192.9584 * 42.9)\n",
    "print('The recommended salary for the Syracuse football coach, if Syracuse was in the Best East, is ~${:,.2f}, assuming that the school had a previous win rate of 42.9% and that the buyout was $0.00'.format(Syracuse_coach_salary_BigEast_lm2))"
   ]
  },
  {
   "cell_type": "markdown",
   "id": "27eb9473-ac98-4aa0-bb28-af02215f47c0",
   "metadata": {},
   "source": [
    "#### What would the salary be if Syracuse was in the `Big Ten`?"
   ]
  },
  {
   "cell_type": "code",
   "execution_count": 33,
   "id": "75f97851-6022-4412-860d-6afaa64b6c37",
   "metadata": {},
   "outputs": [
    {
     "name": "stdout",
     "output_type": "stream",
     "text": [
      "The recommended salary for the Syracuse football coach, if Syracuse was in the Best East, is ~$2,285,677.92, assuming that the school had a previous win rate of 42.9% and that the buyout was $0.00\n"
     ]
    }
   ],
   "source": [
    "# using linear_model_2 as it was the best model -- having highest Adjusted R-Squared and significant variables:\n",
    "# -- assume Buyout = 0\n",
    "Syracuse_coach_salary_BigTen_lm2 = (8.291e+05) + (0.1256 * 0) + (7192.9584 * 42.9) + (1.148e+06)\n",
    "print('The recommended salary for the Syracuse football coach, if Syracuse was in the Best East, is ~${:,.2f}, assuming that the school had a previous win rate of 42.9% and that the buyout was $0.00'.format(Syracuse_coach_salary_BigTen_lm2))"
   ]
  },
  {
   "cell_type": "markdown",
   "id": "d029c992-a3e9-4fbb-82d6-fe40f932dd78",
   "metadata": {},
   "source": [
    "#### What schools were dropped from the data and why?"
   ]
  },
  {
   "cell_type": "code",
   "execution_count": 34,
   "id": "8d096725-0117-4010-8285-3f2934b47132",
   "metadata": {},
   "outputs": [
    {
     "name": "stdout",
     "output_type": "stream",
     "text": [
      "                  School\n",
      "0              Air Force\n",
      "5                Arizona\n",
      "6          Arizona State\n",
      "7               Arkansas\n",
      "9                   Army\n",
      "12                Baylor\n",
      "14        Boston College\n",
      "16         Brigham Young\n",
      "19       Central Florida\n",
      "28                  Duke\n",
      "31               Florida\n",
      "34         Florida State\n",
      "37      Georgia Southern\n",
      "48            Kent State\n",
      "50               Liberty\n",
      "52   Louisiana-Lafayette\n",
      "60          Miami (Fla.)\n",
      "66           Mississippi\n",
      "67     Mississippi State\n",
      "69                  Navy\n",
      "70              Nebraska\n",
      "79          Northwestern\n",
      "80            Notre Dame\n",
      "86                Oregon\n",
      "87          Oregon State\n",
      "89            Pittsburgh\n",
      "91                  Rice\n",
      "95         South Alabama\n",
      "98   Southern California\n",
      "99    Southern Methodist\n",
      "101             Stanford\n",
      "102             Syracuse\n",
      "103            Tennessee\n",
      "105            Texas A&M\n",
      "106      Texas Christian\n",
      "109        Texas-El Paso\n",
      "113               Tulane\n",
      "114                Tulsa\n",
      "115                 UCLA\n",
      "118           Vanderbilt\n",
      "121          Wake Forest\n",
      "127            Wisconsin\n"
     ]
    }
   ],
   "source": [
    "dropped_schools = pd.merge(coaches_initial_df, coaches_df, how='left', on=['School'], indicator=True)\n",
    "dropped_schools = dropped_schools[dropped_schools['_merge'] == 'left_only']\n",
    "print(dropped_schools[['School']])"
   ]
  },
  {
   "cell_type": "code",
   "execution_count": 35,
   "id": "7d24f709-4868-4c5c-a200-f0db704694af",
   "metadata": {},
   "outputs": [
    {
     "name": "stdout",
     "output_type": "stream",
     "text": [
      "42 schools were dropped from the data\n",
      "These schools were dropped because it was not possible to infer the value of various columns\n"
     ]
    }
   ],
   "source": [
    "print(dropped_schools.shape[0], 'schools were dropped from the data')\n",
    "print('These schools were dropped because it was not possible to infer the value of various columns')"
   ]
  },
  {
   "cell_type": "markdown",
   "id": "4ca31ae3-9ffd-471e-a391-fdcd92858693",
   "metadata": {},
   "source": [
    "#### What effect does the graduation rate have on the projected salary?"
   ]
  },
  {
   "cell_type": "markdown",
   "id": "59bc94f9-b789-4b67-945a-31923bd6fb61",
   "metadata": {},
   "source": [
    "The graduation rate can be found within linear model 1.\n",
    "\n",
    "Linear model 1 predicts the salary using the Conference, Bonus, Bonus Paid, Buyout, stadium capacity, graduation rate, and win rate as predictor variables.\n",
    "\n",
    "Within the model, the graduation rate has a coefficient of `5343.2350`. This means that as the graduation rate increases by 1%, holding all variables within the model constant, the expected salary increases ~$5343.235.\n",
    "However, this coefficient was not found to be statistically significant at the 5% level of significance. "
   ]
  },
  {
   "cell_type": "markdown",
   "id": "499dfe2d-3546-4bf0-8dbc-35b1519a277c",
   "metadata": {},
   "source": [
    "#### How good is the model?"
   ]
  },
  {
   "cell_type": "markdown",
   "id": "c79117a8-84ea-4eed-9d53-1ebd3c27d80f",
   "metadata": {},
   "source": [
    "Using `linear_model_2`, the Adjusted R-Squared indicates that ~89.5% of the variation in `TotalPay` can be explained by `Conference`, `Buyout`, and `win_rate`. Although this is a slightly lower value than the previous model, this model has better performance since it preduces similar results with fewer inputs. Additionally, the variables within the model are statistically significant.\n",
    "\n",
    "This performance is relatively good, considering the fact that there are multiple factors which could be used to determine a coache's salary. These variable include factors which might not be measurable, such as the coach's level of negotiation. Therefore, the fact that ~90% of variation can be captured through these variables is significant."
   ]
  },
  {
   "cell_type": "markdown",
   "id": "275dbf30-18b2-4d05-bb96-2a1ca51c4292",
   "metadata": {},
   "source": [
    "#### What is the single biggest impact on salary size?"
   ]
  },
  {
   "cell_type": "markdown",
   "id": "981c0817-cfbd-41db-8ae6-df9ea5b6be29",
   "metadata": {},
   "source": [
    "Using `linear_model_2`:\n",
    "\n",
    "The `Conference` has the single biggest impact on the salary size. Being in the `SEC` Conference gives coahces the largest boost to their potential salary, while being in the `Sun Belt` Conference reduces the potential salary the most."
   ]
  }
 ],
 "metadata": {
  "kernelspec": {
   "display_name": "Python 3",
   "language": "python",
   "name": "python3"
  },
  "language_info": {
   "codemirror_mode": {
    "name": "ipython",
    "version": 3
   },
   "file_extension": ".py",
   "mimetype": "text/x-python",
   "name": "python",
   "nbconvert_exporter": "python",
   "pygments_lexer": "ipython3",
   "version": "3.8.8"
  }
 },
 "nbformat": 4,
 "nbformat_minor": 5
}
